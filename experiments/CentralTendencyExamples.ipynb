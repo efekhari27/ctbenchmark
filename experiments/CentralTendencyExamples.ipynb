{
 "cells": [
  {
   "cell_type": "markdown",
   "metadata": {},
   "source": [
    "# Central tendency analysis examples\n",
    "\n",
    "\n",
    "The objective of this example is to present central tendency problems implemented in otbenchmark."
   ]
  },
  {
   "cell_type": "code",
   "execution_count": 1,
   "metadata": {},
   "outputs": [],
   "source": [
    "import openturns as ot\n",
    "import numpy as np\n",
    "import ctbenchmark as ctb"
   ]
  },
  {
   "cell_type": "code",
   "execution_count": 2,
   "metadata": {},
   "outputs": [],
   "source": [
    "def MCexp(problem, my_sampleSize):\n",
    "    function = problem.getFunction()\n",
    "    distribution = problem.getDistribution()\n",
    "    inputSample = distribution.getSample(my_sampleSize)\n",
    "    outputSample = function(inputSample)\n",
    "    return inputSample, outputSample\n",
    "mc_size = int(1e7)"
   ]
  },
  {
   "cell_type": "markdown",
   "metadata": {},
   "source": [
    "## Gaussian Mixture"
   ]
  },
  {
   "cell_type": "code",
   "execution_count": 3,
   "metadata": {},
   "outputs": [],
   "source": [
    "problem = ctb.CentralTendencyGaussianMixture()\n",
    "function = problem.getFunction()\n",
    "distribution = problem.getDistribution()\n",
    "problem_name = problem.getName()"
   ]
  },
  {
   "cell_type": "code",
   "execution_count": 4,
   "metadata": {},
   "outputs": [
    {
     "name": "stdout",
     "output_type": "stream",
     "text": [
      "Reference mean: 1.0634174346117014\n",
      "Reference std: 0.3047704459456222\n"
     ]
    }
   ],
   "source": [
    "# MC computation of the reference values\n",
    "input_ref, output_ref = MCexp(problem, mc_size)\n",
    "mean = output_ref.computeMean()[0]\n",
    "std = output_ref.computeStandardDeviation()[0, 0]\n",
    "print(\"Reference mean: {}\".format(mean))\n",
    "print(\"Reference std: {}\".format(std[0]))"
   ]
  },
  {
   "cell_type": "markdown",
   "metadata": {},
   "source": [
    "## Gaussian peak 10N"
   ]
  },
  {
   "cell_type": "code",
   "execution_count": 12,
   "metadata": {},
   "outputs": [],
   "source": [
    "problem = ctb.CentralTendencyGaussianPeakProblem10N()\n",
    "function = problem.getFunction()\n",
    "distribution = problem.getDistribution()\n",
    "problem_name = problem.getName()"
   ]
  },
  {
   "cell_type": "code",
   "execution_count": 13,
   "metadata": {},
   "outputs": [
    {
     "name": "stdout",
     "output_type": "stream",
     "text": [
      "Reference mean: 0.447243755848377\n",
      "Reference std: 0.715764358912629\n"
     ]
    }
   ],
   "source": [
    "# MC computation of the reference values\n",
    "input_ref, output_ref = MCexp(problem, mc_size)\n",
    "mean = output_ref.computeMean()[0]\n",
    "std = output_ref.computeStandardDeviation()[0, 0]\n",
    "print(\"Reference mean: {}\".format(mean))\n",
    "print(\"Reference std: {}\".format(std[0]))"
   ]
  },
  {
   "cell_type": "markdown",
   "metadata": {},
   "source": [
    "# Problem description\n",
    "## BBRC Problem 22"
   ]
  },
  {
   "cell_type": "code",
   "execution_count": 3,
   "metadata": {},
   "outputs": [
    {
     "name": "stdout",
     "output_type": "stream",
     "text": [
      "NAME = CTP22            \n",
      "FUNCTION = [x1,x2]->[2.5 - 1 / sqrt(2) * (x1 + x2) + 0.1 * (x1 - x2) ^2]            \n",
      "DISTRIBUTION = ComposedDistribution(TruncatedDistribution(Normal(mu = 0.5, sigma = 0.15), bounds = [0, 1]), TruncatedDistribution(Normal(mu = 0.5, sigma = 0.15), bounds = [0, 1]), IndependentCopula(dimension = 2))            \n",
      "MEAN = 1.7928932188134525            \n",
      "STANDARD DEVIATION = 0.14929264828619296\n",
      "\n"
     ]
    }
   ],
   "source": [
    "problem22 = ctb.CentralTendencyProblem22()\n",
    "function = problem22.getFunction()\n",
    "distribution = problem22.getDistribution()\n",
    "print(problem22)"
   ]
  },
  {
   "cell_type": "code",
   "execution_count": 4,
   "metadata": {},
   "outputs": [],
   "source": [
    "# MC computation of the reference values\n",
    "#input_ref, output_ref = MCexp(10 * mc_size)\n",
    "#mean = output_ref.computeMean()[0]\n",
    "#std = output_ref.computeStandardDeviation()[0, 0]\n",
    "#print(\"Reference mean: {}\".format(mean))\n",
    "#print(\"Reference std: {}\".format(std))"
   ]
  },
  {
   "cell_type": "markdown",
   "metadata": {},
   "source": [
    "## Irregular problem"
   ]
  },
  {
   "cell_type": "code",
   "execution_count": 5,
   "metadata": {},
   "outputs": [
    {
     "name": "stdout",
     "output_type": "stream",
     "text": [
      "NAME = CT_irregular_problem            \n",
      "FUNCTION = [x1,x2]->[exp(x1) / 5 - x2 / 5 + (x2 ^ 6) / 3 + 4 * x2 ^ 4 - 4 * x2 ^ 2 + (7 * x1 ^ 2) / 10 + x1 ^ 4 + 3 / (4 * x1 ^ 2 + 4 * x2 ^ 2 + 1)]            \n",
      "DISTRIBUTION = ComposedDistribution(TruncatedDistribution(Normal(mu = 0.5, sigma = 0.1), bounds = [0, 1]), TruncatedDistribution(WeibullMin(beta = 0.3, alpha = 2, gamma = 0), bounds = [0, 1]), IndependentCopula(dimension = 2))            \n",
      "MEAN = 1.5559449933705856            \n",
      "STANDARD DEVIATION = 0.44492631409352396\n",
      "\n"
     ]
    }
   ],
   "source": [
    "irregular_problem = ctb.CentralTendencyIrregularProblem()\n",
    "function = irregular_problem.getFunction()\n",
    "distribution = irregular_problem.getDistribution()\n",
    "print(irregular_problem)"
   ]
  },
  {
   "cell_type": "code",
   "execution_count": 6,
   "metadata": {},
   "outputs": [],
   "source": [
    "# MC computation of the reference values\n",
    "#input_ref, output_ref = MCexp(10 * mc_size)\n",
    "#mean = output_ref.computeMean()[0]\n",
    "#std = output_ref.computeStandardDeviation()[0, 0]\n",
    "#print(\"Reference mean: {}\".format(mean))\n",
    "#print(\"Reference std: {}\".format(std))"
   ]
  },
  {
   "cell_type": "markdown",
   "metadata": {},
   "source": [
    "## Branin problem"
   ]
  },
  {
   "cell_type": "code",
   "execution_count": 7,
   "metadata": {},
   "outputs": [
    {
     "name": "stdout",
     "output_type": "stream",
     "text": [
      "NAME = CT_Branin_Problem            \n",
      "FUNCTION = ([x1,x2]->[((x2 - (5.1 / (4 * pi_ ^ 2)) * x1 ^ 2 + 5 * x1 / pi_ - 6) ^ 2 + 10 * (1 - 1 / (8 * pi_)) * cos(x1) + 10 - 54.8104) / 51.9496])o([u1,u2]->[15 * u1 - 5,15 * u2])            \n",
      "DISTRIBUTION = ComposedDistribution(TruncatedDistribution(Normal(mu = 0.5, sigma = 0.15), bounds = [0, 1]), TruncatedDistribution(Normal(mu = 0.5, sigma = 0.15), bounds = [0, 1]), IndependentCopula(dimension = 2))            \n",
      "MEAN = -0.3645488428936036            \n",
      "STANDARD DEVIATION = 0.48805729585614865\n",
      "\n"
     ]
    }
   ],
   "source": [
    "branin_problem = ctb.CentralTendencyBraninProblem()\n",
    "function = branin_problem.getFunction()\n",
    "distribution = branin_problem.getDistribution()\n",
    "print(branin_problem)"
   ]
  },
  {
   "cell_type": "code",
   "execution_count": 8,
   "metadata": {},
   "outputs": [],
   "source": [
    "## MC computation of the reference values\n",
    "#input_ref, output_ref = MCexp(branin_problem, 10 * mc_size)\n",
    "#mean = output_ref.computeMean()[0]\n",
    "#std = output_ref.computeStandardDeviation()[0, 0]\n",
    "#print(\"Reference mean: {}\".format(mean))\n",
    "#print(\"Reference std: {}\".format(std))"
   ]
  },
  {
   "cell_type": "markdown",
   "metadata": {},
   "source": [
    "## GSobol function"
   ]
  },
  {
   "cell_type": "code",
   "execution_count": 9,
   "metadata": {},
   "outputs": [
    {
     "name": "stdout",
     "output_type": "stream",
     "text": [
      "NAME = CT_GSobol_Problem            \n",
      "FUNCTION = class=PythonEvaluation name=OpenTURNSPythonFunction            \n",
      "DISTRIBUTION = ComposedDistribution(TruncatedDistribution(Normal(mu = 0.5, sigma = 0.15), bounds = [0, 1]), TruncatedDistribution(Normal(mu = 0.5, sigma = 0.15), bounds = [0, 1]), TruncatedDistribution(Normal(mu = 0.5, sigma = 0.15), bounds = [0, 1]), TruncatedDistribution(Normal(mu = 0.5, sigma = 0.15), bounds = [0, 1]), TruncatedDistribution(Normal(mu = 0.5, sigma = 0.15), bounds = [0, 1]), IndependentCopula(dimension = 5))            \n",
      "MEAN = 0.4345424555235939            \n",
      "STANDARD DEVIATION = 0.1414514728776655\n",
      "\n"
     ]
    }
   ],
   "source": [
    "gsobol_problem = ctb.CentralTendencyGSobolProblem([1., 2., 3., 4., 5.])\n",
    "function = gsobol_problem.getFunction()\n",
    "distribution = gsobol_problem.getDistribution()\n",
    "print(gsobol_problem)"
   ]
  },
  {
   "cell_type": "code",
   "execution_count": 10,
   "metadata": {},
   "outputs": [],
   "source": [
    "# MC computation of the reference values\n",
    "#input_ref, output_ref = MCexp(mc_size)\n",
    "#mean = output_ref.computeMean()[0]\n",
    "#std = output_ref.computeStandardDeviation()[0, 0]\n",
    "#print(\"Reference mean: {}\".format(mean))\n",
    "#print(\"Reference std: {}\".format(std))"
   ]
  },
  {
   "cell_type": "markdown",
   "metadata": {},
   "source": [
    "## Gaussian Peak problem"
   ]
  },
  {
   "cell_type": "code",
   "execution_count": 11,
   "metadata": {},
   "outputs": [
    {
     "name": "stdout",
     "output_type": "stream",
     "text": [
      "NAME = CT_Peak            \n",
      "FUNCTION = [x1,x2]->[10 * exp(- 30 * (x1 - 0.5)^2 - 30 * abs(x2 - 0.35)^2)]            \n",
      "DISTRIBUTION = ComposedDistribution(TruncatedDistribution(Mixture((w = 0.285714, d = Normal(mu = 0.3, sigma = 0.12)), (w = 0.714286, d = Normal(mu = 0.7, sigma = 0.1))), bounds = [0, 1]), TruncatedDistribution(Normal(mu = 0.6, sigma = 0.15), bounds = [0, 1]), ClaytonCopula(theta = 2))            \n",
      "MEAN = 3.4656521947491563            \n",
      "STANDARD DEVIATION = 2.8467113019310486\n",
      "\n"
     ]
    }
   ],
   "source": [
    "peak_problem = ctb.CentralTendencyGaussianPeakProblem()\n",
    "function = peak_problem.getFunction()\n",
    "distribution = peak_problem.getDistribution()\n",
    "print(peak_problem)"
   ]
  },
  {
   "cell_type": "code",
   "execution_count": 12,
   "metadata": {},
   "outputs": [
    {
     "name": "stdout",
     "output_type": "stream",
     "text": [
      "Reference mean: 1.1556855164865196\n",
      "Reference std: 1.6920479938844741\n"
     ]
    }
   ],
   "source": [
    "## MC computation of the reference values\n",
    "#input_ref, output_ref = MCexp(peak_problem, 10*mc_size)\n",
    "#mean = output_ref.computeMean()[0]\n",
    "#std = output_ref.computeStandardDeviation()[0]\n",
    "#print(\"Reference mean: {}\".format(mean))\n",
    "#print(\"Reference std: {}\".format(std))"
   ]
  },
  {
   "cell_type": "markdown",
   "metadata": {},
   "source": [
    "## Pic problem"
   ]
  },
  {
   "cell_type": "code",
   "execution_count": 11,
   "metadata": {},
   "outputs": [
    {
     "name": "stdout",
     "output_type": "stream",
     "text": [
      "NAME = CT_Pic            \n",
      "FUNCTION = [x1,x2]->[10 * exp(- 5 * abs(x1^2 - 0.5) - 5 * abs(x2 - 0.5))]            \n",
      "DISTRIBUTION = ComposedDistribution(TruncatedDistribution(Mixture((w = 0.285714, d = Normal(mu = 0.3, sigma = 0.12)), (w = 0.714286, d = Normal(mu = 0.7, sigma = 0.1))), bounds = [0, 1]), TruncatedDistribution(Normal(mu = 0.6, sigma = 0.15), bounds = [0, 1]), ClaytonCopula(theta = 2))            \n",
      "MEAN = 0            \n",
      "STANDARD DEVIATION = 0\n",
      "\n"
     ]
    }
   ],
   "source": [
    "pic_problem = ctb.CentralTendencyPicProblem()\n",
    "function = pic_problem.getFunction()\n",
    "distribution = pic_problem.getDistribution()\n",
    "print(pic_problem)"
   ]
  },
  {
   "cell_type": "code",
   "execution_count": 18,
   "metadata": {},
   "outputs": [
    {
     "name": "stdout",
     "output_type": "stream",
     "text": [
      "Reference mean: 2.5107382492861676\n",
      "Reference std: 1.829294056930756\n"
     ]
    }
   ],
   "source": [
    "## MC computation of the reference values\n",
    "#input_ref, output_ref = MCexp(pic_problem, 10*mc_size)\n",
    "#mean = output_ref.computeMean()[0]\n",
    "#std = output_ref.computeStandardDeviation()[0]\n",
    "#print(\"Reference mean: {}\".format(mean))\n",
    "#print(\"Reference std: {}\".format(std))"
   ]
  },
  {
   "cell_type": "code",
   "execution_count": 19,
   "metadata": {},
   "outputs": [],
   "source": [
    "def sobol_sample(problem, size):\n",
    "    function = problem.getFunction()\n",
    "    distribution = problem.getDistribution()\n",
    "    dim = distribution.getDimension()\n",
    "    seq = ot.SobolSequence(dim)\n",
    "    sobol_experiment = ot.LowDiscrepancyExperiment(seq, distribution, size, False)\n",
    "    inputSample = sobol_experiment.generate()\n",
    "    outputSample = function(inputSample)\n",
    "    return inputSample, outputSample\n"
   ]
  },
  {
   "cell_type": "code",
   "execution_count": 20,
   "metadata": {},
   "outputs": [
    {
     "name": "stdout",
     "output_type": "stream",
     "text": [
      "Reference mean: 2.510688027976321\n",
      "Reference std: 1.8291704220412988\n"
     ]
    }
   ],
   "source": [
    "## MC computation of the reference values\n",
    "#input_ref, output_ref = sobol_sample(pic_problem, 10*mc_size)\n",
    "#mean = output_ref.computeMean()[0]\n",
    "#std = output_ref.computeStandardDeviation()[0]\n",
    "#print(\"Reference mean: {}\".format(mean))\n",
    "#print(\"Reference std: {}\".format(std))"
   ]
  },
  {
   "cell_type": "markdown",
   "metadata": {},
   "source": [
    "# Central tendency methods"
   ]
  },
  {
   "cell_type": "markdown",
   "metadata": {},
   "source": [
    "## Regular grid "
   ]
  },
  {
   "cell_type": "code",
   "execution_count": 11,
   "metadata": {},
   "outputs": [
    {
     "name": "stdout",
     "output_type": "stream",
     "text": [
      "-0.29456726023704993\n"
     ]
    }
   ],
   "source": [
    "apx_mean, apx_std, sample_size = ctb.CentralTendencyBenchmark.runRegularGrid(branin_problem, 100)[:3]\n",
    "print(apx_mean)"
   ]
  },
  {
   "cell_type": "markdown",
   "metadata": {},
   "source": [
    "## Monte Carlo"
   ]
  },
  {
   "cell_type": "code",
   "execution_count": 12,
   "metadata": {},
   "outputs": [
    {
     "data": {
      "text/plain": [
       "1000"
      ]
     },
     "execution_count": 12,
     "metadata": {},
     "output_type": "execute_result"
    }
   ],
   "source": [
    "apx_mean, apx_std, sample_size = ctb.CentralTendencyBenchmark.runMonteCarlo(branin_problem, 1000)[:3]\n",
    "apx_mean\n",
    "sample_size"
   ]
  },
  {
   "cell_type": "markdown",
   "metadata": {},
   "source": [
    "## Sobol sequence"
   ]
  },
  {
   "cell_type": "code",
   "execution_count": 13,
   "metadata": {},
   "outputs": [
    {
     "data": {
      "text/plain": [
       "-0.3690376159879571"
      ]
     },
     "execution_count": 13,
     "metadata": {},
     "output_type": "execute_result"
    }
   ],
   "source": [
    "apx_mean, apx_std, sample_size = ctb.CentralTendencyBenchmark.runSobol(branin_problem, 1000, is_scrambled=False)[:3]\n",
    "apx_mean"
   ]
  },
  {
   "cell_type": "markdown",
   "metadata": {},
   "source": [
    "## Latin Hypercube Sampling"
   ]
  },
  {
   "cell_type": "code",
   "execution_count": 14,
   "metadata": {},
   "outputs": [
    {
     "data": {
      "text/plain": [
       "-0.361745666761625"
      ]
     },
     "execution_count": 14,
     "metadata": {},
     "output_type": "execute_result"
    }
   ],
   "source": [
    "apx_mean, apx_std, sample_size = ctb.CentralTendencyBenchmark.runLHS(branin_problem, 1000, is_optimized=False)[:3]\n",
    "apx_mean"
   ]
  },
  {
   "cell_type": "markdown",
   "metadata": {},
   "source": [
    "# Benchmark"
   ]
  },
  {
   "cell_type": "code",
   "execution_count": 15,
   "metadata": {},
   "outputs": [],
   "source": [
    "bench  = ctb.CentralTendencyBenchmark([branin_problem, gsobol_problem], [50, 100, 250, 500, 1000, 3200, 5000, 10000], ['RegularGrid', 'MonteCarlo', 'Sobol'])"
   ]
  },
  {
   "cell_type": "code",
   "execution_count": 16,
   "metadata": {},
   "outputs": [
    {
     "data": {
      "text/html": [
       "<div>\n",
       "<style scoped>\n",
       "    .dataframe tbody tr th:only-of-type {\n",
       "        vertical-align: middle;\n",
       "    }\n",
       "\n",
       "    .dataframe tbody tr th {\n",
       "        vertical-align: top;\n",
       "    }\n",
       "\n",
       "    .dataframe thead th {\n",
       "        text-align: right;\n",
       "    }\n",
       "</style>\n",
       "<table border=\"1\" class=\"dataframe\">\n",
       "  <thead>\n",
       "    <tr style=\"text-align: right;\">\n",
       "      <th></th>\n",
       "      <th></th>\n",
       "      <th>CT_Branin_Problem</th>\n",
       "      <th>CT_GSobol_Problem</th>\n",
       "    </tr>\n",
       "    <tr>\n",
       "      <th>methods</th>\n",
       "      <th>sizes</th>\n",
       "      <th></th>\n",
       "      <th></th>\n",
       "    </tr>\n",
       "  </thead>\n",
       "  <tbody>\n",
       "    <tr>\n",
       "      <th rowspan=\"8\" valign=\"top\">RegularGrid</th>\n",
       "      <th>50</th>\n",
       "      <td>-0.354453</td>\n",
       "      <td>0.005392</td>\n",
       "    </tr>\n",
       "    <tr>\n",
       "      <th>100</th>\n",
       "      <td>-0.294567</td>\n",
       "      <td>0.004489</td>\n",
       "    </tr>\n",
       "    <tr>\n",
       "      <th>250</th>\n",
       "      <td>-0.327585</td>\n",
       "      <td>0.003134</td>\n",
       "    </tr>\n",
       "    <tr>\n",
       "      <th>500</th>\n",
       "      <td>-0.352282</td>\n",
       "      <td>0.123032</td>\n",
       "    </tr>\n",
       "    <tr>\n",
       "      <th>1000</th>\n",
       "      <td>-0.349877</td>\n",
       "      <td>0.123034</td>\n",
       "    </tr>\n",
       "    <tr>\n",
       "      <th>3200</th>\n",
       "      <td>-0.356982</td>\n",
       "      <td>0.139502</td>\n",
       "    </tr>\n",
       "    <tr>\n",
       "      <th>5000</th>\n",
       "      <td>-0.357071</td>\n",
       "      <td>0.261929</td>\n",
       "    </tr>\n",
       "    <tr>\n",
       "      <th>10000</th>\n",
       "      <td>-0.357181</td>\n",
       "      <td>0.202475</td>\n",
       "    </tr>\n",
       "    <tr>\n",
       "      <th rowspan=\"8\" valign=\"top\">MonteCarlo</th>\n",
       "      <th>50</th>\n",
       "      <td>-0.349937</td>\n",
       "      <td>0.430626</td>\n",
       "    </tr>\n",
       "    <tr>\n",
       "      <th>100</th>\n",
       "      <td>-0.420922</td>\n",
       "      <td>0.419118</td>\n",
       "    </tr>\n",
       "    <tr>\n",
       "      <th>250</th>\n",
       "      <td>-0.418485</td>\n",
       "      <td>0.441288</td>\n",
       "    </tr>\n",
       "    <tr>\n",
       "      <th>500</th>\n",
       "      <td>-0.356022</td>\n",
       "      <td>0.434554</td>\n",
       "    </tr>\n",
       "    <tr>\n",
       "      <th>1000</th>\n",
       "      <td>-0.359182</td>\n",
       "      <td>0.426526</td>\n",
       "    </tr>\n",
       "    <tr>\n",
       "      <th>3200</th>\n",
       "      <td>-0.365111</td>\n",
       "      <td>0.43491</td>\n",
       "    </tr>\n",
       "    <tr>\n",
       "      <th>5000</th>\n",
       "      <td>-0.351792</td>\n",
       "      <td>0.433025</td>\n",
       "    </tr>\n",
       "    <tr>\n",
       "      <th>10000</th>\n",
       "      <td>-0.36254</td>\n",
       "      <td>0.435977</td>\n",
       "    </tr>\n",
       "    <tr>\n",
       "      <th rowspan=\"8\" valign=\"top\">Sobol</th>\n",
       "      <th>50</th>\n",
       "      <td>-0.39637</td>\n",
       "      <td>0.413018</td>\n",
       "    </tr>\n",
       "    <tr>\n",
       "      <th>100</th>\n",
       "      <td>-0.381519</td>\n",
       "      <td>0.422563</td>\n",
       "    </tr>\n",
       "    <tr>\n",
       "      <th>250</th>\n",
       "      <td>-0.374063</td>\n",
       "      <td>0.428833</td>\n",
       "    </tr>\n",
       "    <tr>\n",
       "      <th>500</th>\n",
       "      <td>-0.371726</td>\n",
       "      <td>0.430206</td>\n",
       "    </tr>\n",
       "    <tr>\n",
       "      <th>1000</th>\n",
       "      <td>-0.369038</td>\n",
       "      <td>0.431544</td>\n",
       "    </tr>\n",
       "    <tr>\n",
       "      <th>3200</th>\n",
       "      <td>-0.366321</td>\n",
       "      <td>0.432898</td>\n",
       "    </tr>\n",
       "    <tr>\n",
       "      <th>5000</th>\n",
       "      <td>-0.36502</td>\n",
       "      <td>0.433107</td>\n",
       "    </tr>\n",
       "    <tr>\n",
       "      <th>10000</th>\n",
       "      <td>-0.365009</td>\n",
       "      <td>0.433262</td>\n",
       "    </tr>\n",
       "  </tbody>\n",
       "</table>\n",
       "</div>"
      ],
      "text/plain": [
       "                  CT_Branin_Problem CT_GSobol_Problem\n",
       "methods     sizes                                    \n",
       "RegularGrid 50            -0.354453          0.005392\n",
       "            100           -0.294567          0.004489\n",
       "            250           -0.327585          0.003134\n",
       "            500           -0.352282          0.123032\n",
       "            1000          -0.349877          0.123034\n",
       "            3200          -0.356982          0.139502\n",
       "            5000          -0.357071          0.261929\n",
       "            10000         -0.357181          0.202475\n",
       "MonteCarlo  50            -0.349937          0.430626\n",
       "            100           -0.420922          0.419118\n",
       "            250           -0.418485          0.441288\n",
       "            500           -0.356022          0.434554\n",
       "            1000          -0.359182          0.426526\n",
       "            3200          -0.365111           0.43491\n",
       "            5000          -0.351792          0.433025\n",
       "            10000          -0.36254          0.435977\n",
       "Sobol       50             -0.39637          0.413018\n",
       "            100           -0.381519          0.422563\n",
       "            250           -0.374063          0.428833\n",
       "            500           -0.371726          0.430206\n",
       "            1000          -0.369038          0.431544\n",
       "            3200          -0.366321          0.432898\n",
       "            5000           -0.36502          0.433107\n",
       "            10000         -0.365009          0.433262"
      ]
     },
     "execution_count": 16,
     "metadata": {},
     "output_type": "execute_result"
    }
   ],
   "source": [
    "df_mean, df_std = bench.run()\n",
    "df_mean"
   ]
  },
  {
   "cell_type": "code",
   "execution_count": 17,
   "metadata": {},
   "outputs": [
    {
     "data": {
      "text/html": [
       "<div>\n",
       "<style scoped>\n",
       "    .dataframe tbody tr th:only-of-type {\n",
       "        vertical-align: middle;\n",
       "    }\n",
       "\n",
       "    .dataframe tbody tr th {\n",
       "        vertical-align: top;\n",
       "    }\n",
       "\n",
       "    .dataframe thead th {\n",
       "        text-align: right;\n",
       "    }\n",
       "</style>\n",
       "<table border=\"1\" class=\"dataframe\">\n",
       "  <thead>\n",
       "    <tr style=\"text-align: right;\">\n",
       "      <th></th>\n",
       "      <th></th>\n",
       "      <th>CT_Branin_Problem</th>\n",
       "      <th>CT_GSobol_Problem</th>\n",
       "    </tr>\n",
       "    <tr>\n",
       "      <th>methods</th>\n",
       "      <th>sizes</th>\n",
       "      <th></th>\n",
       "      <th></th>\n",
       "    </tr>\n",
       "  </thead>\n",
       "  <tbody>\n",
       "    <tr>\n",
       "      <th rowspan=\"8\" valign=\"top\">RegularGrid</th>\n",
       "      <th>50</th>\n",
       "      <td>-0.354453</td>\n",
       "      <td>0.005392</td>\n",
       "    </tr>\n",
       "    <tr>\n",
       "      <th>100</th>\n",
       "      <td>-0.294567</td>\n",
       "      <td>0.004489</td>\n",
       "    </tr>\n",
       "    <tr>\n",
       "      <th>250</th>\n",
       "      <td>-0.327585</td>\n",
       "      <td>0.003134</td>\n",
       "    </tr>\n",
       "    <tr>\n",
       "      <th>500</th>\n",
       "      <td>-0.352282</td>\n",
       "      <td>0.123032</td>\n",
       "    </tr>\n",
       "    <tr>\n",
       "      <th>1000</th>\n",
       "      <td>-0.349877</td>\n",
       "      <td>0.123034</td>\n",
       "    </tr>\n",
       "    <tr>\n",
       "      <th>3200</th>\n",
       "      <td>-0.356982</td>\n",
       "      <td>0.139502</td>\n",
       "    </tr>\n",
       "    <tr>\n",
       "      <th>5000</th>\n",
       "      <td>-0.357071</td>\n",
       "      <td>0.261929</td>\n",
       "    </tr>\n",
       "    <tr>\n",
       "      <th>10000</th>\n",
       "      <td>-0.357181</td>\n",
       "      <td>0.202475</td>\n",
       "    </tr>\n",
       "    <tr>\n",
       "      <th rowspan=\"8\" valign=\"top\">MonteCarlo</th>\n",
       "      <th>50</th>\n",
       "      <td>-0.364026</td>\n",
       "      <td>0.431575</td>\n",
       "    </tr>\n",
       "    <tr>\n",
       "      <th>100</th>\n",
       "      <td>-0.373558</td>\n",
       "      <td>0.432256</td>\n",
       "    </tr>\n",
       "    <tr>\n",
       "      <th>250</th>\n",
       "      <td>-0.369297</td>\n",
       "      <td>0.431675</td>\n",
       "    </tr>\n",
       "    <tr>\n",
       "      <th>500</th>\n",
       "      <td>-0.365709</td>\n",
       "      <td>0.434021</td>\n",
       "    </tr>\n",
       "    <tr>\n",
       "      <th>1000</th>\n",
       "      <td>-0.364318</td>\n",
       "      <td>0.434227</td>\n",
       "    </tr>\n",
       "    <tr>\n",
       "      <th>3200</th>\n",
       "      <td>-0.362412</td>\n",
       "      <td>0.433132</td>\n",
       "    </tr>\n",
       "    <tr>\n",
       "      <th>5000</th>\n",
       "      <td>-0.365409</td>\n",
       "      <td>0.432952</td>\n",
       "    </tr>\n",
       "    <tr>\n",
       "      <th>10000</th>\n",
       "      <td>-0.3627</td>\n",
       "      <td>0.433488</td>\n",
       "    </tr>\n",
       "    <tr>\n",
       "      <th rowspan=\"8\" valign=\"top\">Sobol</th>\n",
       "      <th>50</th>\n",
       "      <td>-0.363556</td>\n",
       "      <td>0.435107</td>\n",
       "    </tr>\n",
       "    <tr>\n",
       "      <th>100</th>\n",
       "      <td>-0.368422</td>\n",
       "      <td>0.43321</td>\n",
       "    </tr>\n",
       "    <tr>\n",
       "      <th>250</th>\n",
       "      <td>-0.363378</td>\n",
       "      <td>0.433528</td>\n",
       "    </tr>\n",
       "    <tr>\n",
       "      <th>500</th>\n",
       "      <td>-0.363117</td>\n",
       "      <td>0.433456</td>\n",
       "    </tr>\n",
       "    <tr>\n",
       "      <th>1000</th>\n",
       "      <td>-0.36402</td>\n",
       "      <td>0.433427</td>\n",
       "    </tr>\n",
       "    <tr>\n",
       "      <th>3200</th>\n",
       "      <td>-0.364431</td>\n",
       "      <td>0.433426</td>\n",
       "    </tr>\n",
       "    <tr>\n",
       "      <th>5000</th>\n",
       "      <td>-0.364689</td>\n",
       "      <td>0.433441</td>\n",
       "    </tr>\n",
       "    <tr>\n",
       "      <th>10000</th>\n",
       "      <td>-0.364352</td>\n",
       "      <td>0.43344</td>\n",
       "    </tr>\n",
       "  </tbody>\n",
       "</table>\n",
       "</div>"
      ],
      "text/plain": [
       "                  CT_Branin_Problem CT_GSobol_Problem\n",
       "methods     sizes                                    \n",
       "RegularGrid 50            -0.354453          0.005392\n",
       "            100           -0.294567          0.004489\n",
       "            250           -0.327585          0.003134\n",
       "            500           -0.352282          0.123032\n",
       "            1000          -0.349877          0.123034\n",
       "            3200          -0.356982          0.139502\n",
       "            5000          -0.357071          0.261929\n",
       "            10000         -0.357181          0.202475\n",
       "MonteCarlo  50            -0.364026          0.431575\n",
       "            100           -0.373558          0.432256\n",
       "            250           -0.369297          0.431675\n",
       "            500           -0.365709          0.434021\n",
       "            1000          -0.364318          0.434227\n",
       "            3200          -0.362412          0.433132\n",
       "            5000          -0.365409          0.432952\n",
       "            10000           -0.3627          0.433488\n",
       "Sobol       50            -0.363556          0.435107\n",
       "            100           -0.368422           0.43321\n",
       "            250           -0.363378          0.433528\n",
       "            500           -0.363117          0.433456\n",
       "            1000           -0.36402          0.433427\n",
       "            3200          -0.364431          0.433426\n",
       "            5000          -0.364689          0.433441\n",
       "            10000         -0.364352           0.43344"
      ]
     },
     "execution_count": 17,
     "metadata": {},
     "output_type": "execute_result"
    }
   ],
   "source": [
    "df_med_mean, df_up_mean, df_low_mean, df_med_std, df_up_std, df_low_std = bench.repeated_run()\n",
    "df_med_mean"
   ]
  },
  {
   "cell_type": "code",
   "execution_count": null,
   "metadata": {},
   "outputs": [
    {
     "data": {
      "image/png": "[encoded data removed]",
      "image/svg+xml": "<?xml version=\"1.0\" encoding=\"utf-8\" standalone=\"no\"?>\n<!DOCTYPE svg PUBLIC \"-//W3C//DTD SVG 1.1//EN\"\n  \"http://www.w3.org/Graphics/SVG/1.1/DTD/svg11.dtd\">\n<!-- Created with matplotlib (https://matplotlib.org/) -->\n<svg height=\"389.489687pt\" version=\"1.1\" viewBox=\"0 0 569.859062 389.489687\" width=\"569.859062pt\" xmlns=\"http://www.w3.org/2000/svg\" xmlns:xlink=\"http://www.w3.org/1999/xlink\">\n <metadata>\n  <rdf:RDF xmlns:cc=\"http://creativecommons.org/ns#\" xmlns:dc=\"http://purl.org/dc/elements/1.1/\" xmlns:rdf=\"http://www.w3.org/1999/02/22-rdf-syntax-ns#\">\n   <cc:Work>\n    <dc:type rdf:resource=\"http://purl.org/dc/dcmitype/StillImage\"/>\n    <dc:date>2021-08-23T15:48:45.879328</dc:date>\n    <dc:format>image/svg+xml</dc:format>\n    <dc:creator>\n     <cc:Agent>\n      <dc:title>Matplotlib v3.3.4, https://matplotlib.org/</dc:title>\n     </cc:Agent>\n    </dc:creator>\n   </cc:Work>\n  </rdf:RDF>\n </metadata>\n <defs>\n  <style type=\"text/css\">*{stroke-linecap:butt;stroke-linejoin:round;}</style>\n </defs>\n <g id=\"figure_1\">\n  <g id=\"patch_1\">\n   <path d=\"M 0 389.489687 \nL 569.859062 389.489687 \nL 569.859062 0 \nL 0 0 \nz\n\" style=\"fill:none;\"/>\n  </g>\n  <g id=\"axes_1\">\n   <g id=\"patch_2\">\n    <path d=\"M 60.459063 349.997812 \nL 562.659063 349.997812 \nL 562.659063 23.837812 \nL 60.459063 23.837812 \nz\n\" style=\"fill:#ffffff;\"/>\n   </g>\n   <g id=\"PolyCollection_1\">\n    <defs>\n     <path d=\"M 83.286335 -202.355391 \nL 83.286335 -202.355391 \nL 85.580533 -284.601558 \nL 92.463128 -239.25643 \nL 103.93412 -205.338227 \nL 126.876102 -208.639952 \nL 227.820826 -198.882499 \nL 310.411963 -198.760213 \nL 539.83179 -198.609062 \nL 539.83179 -198.609062 \nL 539.83179 -198.609062 \nL 310.411963 -198.760213 \nL 227.820826 -198.882499 \nL 126.876102 -208.639952 \nL 103.93412 -205.338227 \nL 92.463128 -239.25643 \nL 85.580533 -284.601558 \nL 83.286335 -202.355391 \nz\n\" id=\"m7d82d7cff1\" style=\"stroke:#1f77b4;stroke-opacity:0.2;\"/>\n    </defs>\n    <g clip-path=\"url(#p048e9113c4)\">\n     <use style=\"fill:#1f77b4;fill-opacity:0.2;stroke:#1f77b4;stroke-opacity:0.2;\" x=\"0\" xlink:href=\"#m7d82d7cff1\" y=\"389.489687\"/>\n    </g>\n   </g>\n   <g id=\"PolyCollection_2\">\n    <defs>\n     <path d=\"M 83.286335 -330.280845 \nL 83.286335 -54.31733 \nL 85.580533 -71.305633 \nL 92.463128 -120.598883 \nL 103.93412 -150.292002 \nL 126.876102 -157.729631 \nL 227.820826 -170.144574 \nL 310.411963 -171.62062 \nL 539.83179 -182.976958 \nL 539.83179 -201.952859 \nL 539.83179 -201.952859 \nL 310.411963 -204.087669 \nL 227.820826 -211.359687 \nL 126.876102 -223.758061 \nL 103.93412 -228.965616 \nL 92.463128 -251.310746 \nL 85.580533 -350.82642 \nL 83.286335 -330.280845 \nz\n\" id=\"m490fd4c995\" style=\"stroke:#ff7f0e;stroke-opacity:0.2;\"/>\n    </defs>\n    <g clip-path=\"url(#p048e9113c4)\">\n     <use style=\"fill:#ff7f0e;fill-opacity:0.2;stroke:#ff7f0e;stroke-opacity:0.2;\" x=\"0\" xlink:href=\"#m490fd4c995\" y=\"389.489687\"/>\n    </g>\n   </g>\n   <g id=\"PolyCollection_3\">\n    <defs>\n     <path d=\"M 83.286335 -260.697153 \nL 83.286335 -103.651463 \nL 85.580533 -140.164498 \nL 92.463128 -167.556594 \nL 103.93412 -179.777127 \nL 126.876102 -183.462899 \nL 227.820826 -186.137207 \nL 310.411963 -186.582312 \nL 539.83179 -187.678863 \nL 539.83179 -189.446447 \nL 539.83179 -189.446447 \nL 310.411963 -190.655016 \nL 227.820826 -191.185517 \nL 126.876102 -195.166598 \nL 103.93412 -198.422721 \nL 92.463128 -209.228136 \nL 85.580533 -227.765867 \nL 83.286335 -260.697153 \nz\n\" id=\"mc6a0458294\" style=\"stroke:#2ca02c;stroke-opacity:0.2;\"/>\n    </defs>\n    <g clip-path=\"url(#p048e9113c4)\">\n     <use style=\"fill:#2ca02c;fill-opacity:0.2;stroke:#2ca02c;stroke-opacity:0.2;\" x=\"0\" xlink:href=\"#mc6a0458294\" y=\"389.489687\"/>\n    </g>\n   </g>\n   <g id=\"matplotlib.axis_1\">\n    <g id=\"xtick_1\">\n     <g id=\"line2d_1\">\n      <defs>\n       <path d=\"M 0 0 \nL 0 3.5 \n\" id=\"m2c45351209\" style=\"stroke:#000000;stroke-width:0.8;\"/>\n      </defs>\n      <g>\n       <use style=\"stroke:#000000;stroke-width:0.8;\" x=\"80.992137\" xlink:href=\"#m2c45351209\" y=\"349.997812\"/>\n      </g>\n     </g>\n     <g id=\"text_1\">\n      <!-- 0 -->\n      <g transform=\"translate(77.810887 364.59625)scale(0.1 -0.1)\">\n       <defs>\n        <path d=\"M 31.78125 66.40625 \nQ 24.171875 66.40625 20.328125 58.90625 \nQ 16.5 51.421875 16.5 36.375 \nQ 16.5 21.390625 20.328125 13.890625 \nQ 24.171875 6.390625 31.78125 6.390625 \nQ 39.453125 6.390625 43.28125 13.890625 \nQ 47.125 21.390625 47.125 36.375 \nQ 47.125 51.421875 43.28125 58.90625 \nQ 39.453125 66.40625 31.78125 66.40625 \nz\nM 31.78125 74.21875 \nQ 44.046875 74.21875 50.515625 64.515625 \nQ 56.984375 54.828125 56.984375 36.375 \nQ 56.984375 17.96875 50.515625 8.265625 \nQ 44.046875 -1.421875 31.78125 -1.421875 \nQ 19.53125 -1.421875 13.0625 8.265625 \nQ 6.59375 17.96875 6.59375 36.375 \nQ 6.59375 54.828125 13.0625 64.515625 \nQ 19.53125 74.21875 31.78125 74.21875 \nz\n\" id=\"DejaVuSans-48\"/>\n       </defs>\n       <use xlink:href=\"#DejaVuSans-48\"/>\n      </g>\n     </g>\n    </g>\n    <g id=\"xtick_2\">\n     <g id=\"line2d_2\">\n      <g>\n       <use style=\"stroke:#000000;stroke-width:0.8;\" x=\"172.760068\" xlink:href=\"#m2c45351209\" y=\"349.997812\"/>\n      </g>\n     </g>\n     <g id=\"text_2\">\n      <!-- 2000 -->\n      <g transform=\"translate(160.035068 364.59625)scale(0.1 -0.1)\">\n       <defs>\n        <path d=\"M 19.1875 8.296875 \nL 53.609375 8.296875 \nL 53.609375 0 \nL 7.328125 0 \nL 7.328125 8.296875 \nQ 12.9375 14.109375 22.625 23.890625 \nQ 32.328125 33.6875 34.8125 36.53125 \nQ 39.546875 41.84375 41.421875 45.53125 \nQ 43.3125 49.21875 43.3125 52.78125 \nQ 43.3125 58.59375 39.234375 62.25 \nQ 35.15625 65.921875 28.609375 65.921875 \nQ 23.96875 65.921875 18.8125 64.3125 \nQ 13.671875 62.703125 7.8125 59.421875 \nL 7.8125 69.390625 \nQ 13.765625 71.78125 18.9375 73 \nQ 24.125 74.21875 28.421875 74.21875 \nQ 39.75 74.21875 46.484375 68.546875 \nQ 53.21875 62.890625 53.21875 53.421875 \nQ 53.21875 48.921875 51.53125 44.890625 \nQ 49.859375 40.875 45.40625 35.40625 \nQ 44.1875 33.984375 37.640625 27.21875 \nQ 31.109375 20.453125 19.1875 8.296875 \nz\n\" id=\"DejaVuSans-50\"/>\n       </defs>\n       <use xlink:href=\"#DejaVuSans-50\"/>\n       <use x=\"63.623047\" xlink:href=\"#DejaVuSans-48\"/>\n       <use x=\"127.246094\" xlink:href=\"#DejaVuSans-48\"/>\n       <use x=\"190.869141\" xlink:href=\"#DejaVuSans-48\"/>\n      </g>\n     </g>\n    </g>\n    <g id=\"xtick_3\">\n     <g id=\"line2d_3\">\n      <g>\n       <use style=\"stroke:#000000;stroke-width:0.8;\" x=\"264.527998\" xlink:href=\"#m2c45351209\" y=\"349.997812\"/>\n      </g>\n     </g>\n     <g id=\"text_3\">\n      <!-- 4000 -->\n      <g transform=\"translate(251.802998 364.59625)scale(0.1 -0.1)\">\n       <defs>\n        <path d=\"M 37.796875 64.3125 \nL 12.890625 25.390625 \nL 37.796875 25.390625 \nz\nM 35.203125 72.90625 \nL 47.609375 72.90625 \nL 47.609375 25.390625 \nL 58.015625 25.390625 \nL 58.015625 17.1875 \nL 47.609375 17.1875 \nL 47.609375 0 \nL 37.796875 0 \nL 37.796875 17.1875 \nL 4.890625 17.1875 \nL 4.890625 26.703125 \nz\n\" id=\"DejaVuSans-52\"/>\n       </defs>\n       <use xlink:href=\"#DejaVuSans-52\"/>\n       <use x=\"63.623047\" xlink:href=\"#DejaVuSans-48\"/>\n       <use x=\"127.246094\" xlink:href=\"#DejaVuSans-48\"/>\n       <use x=\"190.869141\" xlink:href=\"#DejaVuSans-48\"/>\n      </g>\n     </g>\n    </g>\n    <g id=\"xtick_4\">\n     <g id=\"line2d_4\">\n      <g>\n       <use style=\"stroke:#000000;stroke-width:0.8;\" x=\"356.295929\" xlink:href=\"#m2c45351209\" y=\"349.997812\"/>\n      </g>\n     </g>\n     <g id=\"text_4\">\n      <!-- 6000 -->\n      <g transform=\"translate(343.570929 364.59625)scale(0.1 -0.1)\">\n       <defs>\n        <path d=\"M 33.015625 40.375 \nQ 26.375 40.375 22.484375 35.828125 \nQ 18.609375 31.296875 18.609375 23.390625 \nQ 18.609375 15.53125 22.484375 10.953125 \nQ 26.375 6.390625 33.015625 6.390625 \nQ 39.65625 6.390625 43.53125 10.953125 \nQ 47.40625 15.53125 47.40625 23.390625 \nQ 47.40625 31.296875 43.53125 35.828125 \nQ 39.65625 40.375 33.015625 40.375 \nz\nM 52.59375 71.296875 \nL 52.59375 62.3125 \nQ 48.875 64.0625 45.09375 64.984375 \nQ 41.3125 65.921875 37.59375 65.921875 \nQ 27.828125 65.921875 22.671875 59.328125 \nQ 17.53125 52.734375 16.796875 39.40625 \nQ 19.671875 43.65625 24.015625 45.921875 \nQ 28.375 48.1875 33.59375 48.1875 \nQ 44.578125 48.1875 50.953125 41.515625 \nQ 57.328125 34.859375 57.328125 23.390625 \nQ 57.328125 12.15625 50.6875 5.359375 \nQ 44.046875 -1.421875 33.015625 -1.421875 \nQ 20.359375 -1.421875 13.671875 8.265625 \nQ 6.984375 17.96875 6.984375 36.375 \nQ 6.984375 53.65625 15.1875 63.9375 \nQ 23.390625 74.21875 37.203125 74.21875 \nQ 40.921875 74.21875 44.703125 73.484375 \nQ 48.484375 72.75 52.59375 71.296875 \nz\n\" id=\"DejaVuSans-54\"/>\n       </defs>\n       <use xlink:href=\"#DejaVuSans-54\"/>\n       <use x=\"63.623047\" xlink:href=\"#DejaVuSans-48\"/>\n       <use x=\"127.246094\" xlink:href=\"#DejaVuSans-48\"/>\n       <use x=\"190.869141\" xlink:href=\"#DejaVuSans-48\"/>\n      </g>\n     </g>\n    </g>\n    <g id=\"xtick_5\">\n     <g id=\"line2d_5\">\n      <g>\n       <use style=\"stroke:#000000;stroke-width:0.8;\" x=\"448.063859\" xlink:href=\"#m2c45351209\" y=\"349.997812\"/>\n      </g>\n     </g>\n     <g id=\"text_5\">\n      <!-- 8000 -->\n      <g transform=\"translate(435.338859 364.59625)scale(0.1 -0.1)\">\n       <defs>\n        <path d=\"M 31.78125 34.625 \nQ 24.75 34.625 20.71875 30.859375 \nQ 16.703125 27.09375 16.703125 20.515625 \nQ 16.703125 13.921875 20.71875 10.15625 \nQ 24.75 6.390625 31.78125 6.390625 \nQ 38.8125 6.390625 42.859375 10.171875 \nQ 46.921875 13.96875 46.921875 20.515625 \nQ 46.921875 27.09375 42.890625 30.859375 \nQ 38.875 34.625 31.78125 34.625 \nz\nM 21.921875 38.8125 \nQ 15.578125 40.375 12.03125 44.71875 \nQ 8.5 49.078125 8.5 55.328125 \nQ 8.5 64.0625 14.71875 69.140625 \nQ 20.953125 74.21875 31.78125 74.21875 \nQ 42.671875 74.21875 48.875 69.140625 \nQ 55.078125 64.0625 55.078125 55.328125 \nQ 55.078125 49.078125 51.53125 44.71875 \nQ 48 40.375 41.703125 38.8125 \nQ 48.828125 37.15625 52.796875 32.3125 \nQ 56.78125 27.484375 56.78125 20.515625 \nQ 56.78125 9.90625 50.3125 4.234375 \nQ 43.84375 -1.421875 31.78125 -1.421875 \nQ 19.734375 -1.421875 13.25 4.234375 \nQ 6.78125 9.90625 6.78125 20.515625 \nQ 6.78125 27.484375 10.78125 32.3125 \nQ 14.796875 37.15625 21.921875 38.8125 \nz\nM 18.3125 54.390625 \nQ 18.3125 48.734375 21.84375 45.5625 \nQ 25.390625 42.390625 31.78125 42.390625 \nQ 38.140625 42.390625 41.71875 45.5625 \nQ 45.3125 48.734375 45.3125 54.390625 \nQ 45.3125 60.0625 41.71875 63.234375 \nQ 38.140625 66.40625 31.78125 66.40625 \nQ 25.390625 66.40625 21.84375 63.234375 \nQ 18.3125 60.0625 18.3125 54.390625 \nz\n\" id=\"DejaVuSans-56\"/>\n       </defs>\n       <use xlink:href=\"#DejaVuSans-56\"/>\n       <use x=\"63.623047\" xlink:href=\"#DejaVuSans-48\"/>\n       <use x=\"127.246094\" xlink:href=\"#DejaVuSans-48\"/>\n       <use x=\"190.869141\" xlink:href=\"#DejaVuSans-48\"/>\n      </g>\n     </g>\n    </g>\n    <g id=\"xtick_6\">\n     <g id=\"line2d_6\">\n      <g>\n       <use style=\"stroke:#000000;stroke-width:0.8;\" x=\"539.83179\" xlink:href=\"#m2c45351209\" y=\"349.997812\"/>\n      </g>\n     </g>\n     <g id=\"text_6\">\n      <!-- 10000 -->\n      <g transform=\"translate(523.92554 364.59625)scale(0.1 -0.1)\">\n       <defs>\n        <path d=\"M 12.40625 8.296875 \nL 28.515625 8.296875 \nL 28.515625 63.921875 \nL 10.984375 60.40625 \nL 10.984375 69.390625 \nL 28.421875 72.90625 \nL 38.28125 72.90625 \nL 38.28125 8.296875 \nL 54.390625 8.296875 \nL 54.390625 0 \nL 12.40625 0 \nz\n\" id=\"DejaVuSans-49\"/>\n       </defs>\n       <use xlink:href=\"#DejaVuSans-49\"/>\n       <use x=\"63.623047\" xlink:href=\"#DejaVuSans-48\"/>\n       <use x=\"127.246094\" xlink:href=\"#DejaVuSans-48\"/>\n       <use x=\"190.869141\" xlink:href=\"#DejaVuSans-48\"/>\n       <use x=\"254.492188\" xlink:href=\"#DejaVuSans-48\"/>\n      </g>\n     </g>\n    </g>\n    <g id=\"text_7\">\n     <!-- Sample size -->\n     <g transform=\"translate(275.520625 379.794062)scale(0.12 -0.12)\">\n      <defs>\n       <path d=\"M 53.515625 70.515625 \nL 53.515625 60.890625 \nQ 47.90625 63.578125 42.921875 64.890625 \nQ 37.9375 66.21875 33.296875 66.21875 \nQ 25.25 66.21875 20.875 63.09375 \nQ 16.5 59.96875 16.5 54.203125 \nQ 16.5 49.359375 19.40625 46.890625 \nQ 22.3125 44.4375 30.421875 42.921875 \nL 36.375 41.703125 \nQ 47.40625 39.59375 52.65625 34.296875 \nQ 57.90625 29 57.90625 20.125 \nQ 57.90625 9.515625 50.796875 4.046875 \nQ 43.703125 -1.421875 29.984375 -1.421875 \nQ 24.8125 -1.421875 18.96875 -0.25 \nQ 13.140625 0.921875 6.890625 3.21875 \nL 6.890625 13.375 \nQ 12.890625 10.015625 18.65625 8.296875 \nQ 24.421875 6.59375 29.984375 6.59375 \nQ 38.421875 6.59375 43.015625 9.90625 \nQ 47.609375 13.234375 47.609375 19.390625 \nQ 47.609375 24.75 44.3125 27.78125 \nQ 41.015625 30.8125 33.5 32.328125 \nL 27.484375 33.5 \nQ 16.453125 35.6875 11.515625 40.375 \nQ 6.59375 45.0625 6.59375 53.421875 \nQ 6.59375 63.09375 13.40625 68.65625 \nQ 20.21875 74.21875 32.171875 74.21875 \nQ 37.3125 74.21875 42.625 73.28125 \nQ 47.953125 72.359375 53.515625 70.515625 \nz\n\" id=\"DejaVuSans-83\"/>\n       <path d=\"M 34.28125 27.484375 \nQ 23.390625 27.484375 19.1875 25 \nQ 14.984375 22.515625 14.984375 16.5 \nQ 14.984375 11.71875 18.140625 8.90625 \nQ 21.296875 6.109375 26.703125 6.109375 \nQ 34.1875 6.109375 38.703125 11.40625 \nQ 43.21875 16.703125 43.21875 25.484375 \nL 43.21875 27.484375 \nz\nM 52.203125 31.203125 \nL 52.203125 0 \nL 43.21875 0 \nL 43.21875 8.296875 \nQ 40.140625 3.328125 35.546875 0.953125 \nQ 30.953125 -1.421875 24.3125 -1.421875 \nQ 15.921875 -1.421875 10.953125 3.296875 \nQ 6 8.015625 6 15.921875 \nQ 6 25.140625 12.171875 29.828125 \nQ 18.359375 34.515625 30.609375 34.515625 \nL 43.21875 34.515625 \nL 43.21875 35.40625 \nQ 43.21875 41.609375 39.140625 45 \nQ 35.0625 48.390625 27.6875 48.390625 \nQ 23 48.390625 18.546875 47.265625 \nQ 14.109375 46.140625 10.015625 43.890625 \nL 10.015625 52.203125 \nQ 14.9375 54.109375 19.578125 55.046875 \nQ 24.21875 56 28.609375 56 \nQ 40.484375 56 46.34375 49.84375 \nQ 52.203125 43.703125 52.203125 31.203125 \nz\n\" id=\"DejaVuSans-97\"/>\n       <path d=\"M 52 44.1875 \nQ 55.375 50.25 60.0625 53.125 \nQ 64.75 56 71.09375 56 \nQ 79.640625 56 84.28125 50.015625 \nQ 88.921875 44.046875 88.921875 33.015625 \nL 88.921875 0 \nL 79.890625 0 \nL 79.890625 32.71875 \nQ 79.890625 40.578125 77.09375 44.375 \nQ 74.3125 48.1875 68.609375 48.1875 \nQ 61.625 48.1875 57.5625 43.546875 \nQ 53.515625 38.921875 53.515625 30.90625 \nL 53.515625 0 \nL 44.484375 0 \nL 44.484375 32.71875 \nQ 44.484375 40.625 41.703125 44.40625 \nQ 38.921875 48.1875 33.109375 48.1875 \nQ 26.21875 48.1875 22.15625 43.53125 \nQ 18.109375 38.875 18.109375 30.90625 \nL 18.109375 0 \nL 9.078125 0 \nL 9.078125 54.6875 \nL 18.109375 54.6875 \nL 18.109375 46.1875 \nQ 21.1875 51.21875 25.484375 53.609375 \nQ 29.78125 56 35.6875 56 \nQ 41.65625 56 45.828125 52.96875 \nQ 50 49.953125 52 44.1875 \nz\n\" id=\"DejaVuSans-109\"/>\n       <path d=\"M 18.109375 8.203125 \nL 18.109375 -20.796875 \nL 9.078125 -20.796875 \nL 9.078125 54.6875 \nL 18.109375 54.6875 \nL 18.109375 46.390625 \nQ 20.953125 51.265625 25.265625 53.625 \nQ 29.59375 56 35.59375 56 \nQ 45.5625 56 51.78125 48.09375 \nQ 58.015625 40.1875 58.015625 27.296875 \nQ 58.015625 14.40625 51.78125 6.484375 \nQ 45.5625 -1.421875 35.59375 -1.421875 \nQ 29.59375 -1.421875 25.265625 0.953125 \nQ 20.953125 3.328125 18.109375 8.203125 \nz\nM 48.6875 27.296875 \nQ 48.6875 37.203125 44.609375 42.84375 \nQ 40.53125 48.484375 33.40625 48.484375 \nQ 26.265625 48.484375 22.1875 42.84375 \nQ 18.109375 37.203125 18.109375 27.296875 \nQ 18.109375 17.390625 22.1875 11.75 \nQ 26.265625 6.109375 33.40625 6.109375 \nQ 40.53125 6.109375 44.609375 11.75 \nQ 48.6875 17.390625 48.6875 27.296875 \nz\n\" id=\"DejaVuSans-112\"/>\n       <path d=\"M 9.421875 75.984375 \nL 18.40625 75.984375 \nL 18.40625 0 \nL 9.421875 0 \nz\n\" id=\"DejaVuSans-108\"/>\n       <path d=\"M 56.203125 29.59375 \nL 56.203125 25.203125 \nL 14.890625 25.203125 \nQ 15.484375 15.921875 20.484375 11.0625 \nQ 25.484375 6.203125 34.421875 6.203125 \nQ 39.59375 6.203125 44.453125 7.46875 \nQ 49.3125 8.734375 54.109375 11.28125 \nL 54.109375 2.78125 \nQ 49.265625 0.734375 44.1875 -0.34375 \nQ 39.109375 -1.421875 33.890625 -1.421875 \nQ 20.796875 -1.421875 13.15625 6.1875 \nQ 5.515625 13.8125 5.515625 26.8125 \nQ 5.515625 40.234375 12.765625 48.109375 \nQ 20.015625 56 32.328125 56 \nQ 43.359375 56 49.78125 48.890625 \nQ 56.203125 41.796875 56.203125 29.59375 \nz\nM 47.21875 32.234375 \nQ 47.125 39.59375 43.09375 43.984375 \nQ 39.0625 48.390625 32.421875 48.390625 \nQ 24.90625 48.390625 20.390625 44.140625 \nQ 15.875 39.890625 15.1875 32.171875 \nz\n\" id=\"DejaVuSans-101\"/>\n       <path id=\"DejaVuSans-32\"/>\n       <path d=\"M 44.28125 53.078125 \nL 44.28125 44.578125 \nQ 40.484375 46.53125 36.375 47.5 \nQ 32.28125 48.484375 27.875 48.484375 \nQ 21.1875 48.484375 17.84375 46.4375 \nQ 14.5 44.390625 14.5 40.28125 \nQ 14.5 37.15625 16.890625 35.375 \nQ 19.28125 33.59375 26.515625 31.984375 \nL 29.59375 31.296875 \nQ 39.15625 29.25 43.1875 25.515625 \nQ 47.21875 21.78125 47.21875 15.09375 \nQ 47.21875 7.46875 41.1875 3.015625 \nQ 35.15625 -1.421875 24.609375 -1.421875 \nQ 20.21875 -1.421875 15.453125 -0.5625 \nQ 10.6875 0.296875 5.421875 2 \nL 5.421875 11.28125 \nQ 10.40625 8.6875 15.234375 7.390625 \nQ 20.0625 6.109375 24.8125 6.109375 \nQ 31.15625 6.109375 34.5625 8.28125 \nQ 37.984375 10.453125 37.984375 14.40625 \nQ 37.984375 18.0625 35.515625 20.015625 \nQ 33.0625 21.96875 24.703125 23.78125 \nL 21.578125 24.515625 \nQ 13.234375 26.265625 9.515625 29.90625 \nQ 5.8125 33.546875 5.8125 39.890625 \nQ 5.8125 47.609375 11.28125 51.796875 \nQ 16.75 56 26.8125 56 \nQ 31.78125 56 36.171875 55.265625 \nQ 40.578125 54.546875 44.28125 53.078125 \nz\n\" id=\"DejaVuSans-115\"/>\n       <path d=\"M 9.421875 54.6875 \nL 18.40625 54.6875 \nL 18.40625 0 \nL 9.421875 0 \nz\nM 9.421875 75.984375 \nL 18.40625 75.984375 \nL 18.40625 64.59375 \nL 9.421875 64.59375 \nz\n\" id=\"DejaVuSans-105\"/>\n       <path d=\"M 5.515625 54.6875 \nL 48.1875 54.6875 \nL 48.1875 46.484375 \nL 14.40625 7.171875 \nL 48.1875 7.171875 \nL 48.1875 0 \nL 4.296875 0 \nL 4.296875 8.203125 \nL 38.09375 47.515625 \nL 5.515625 47.515625 \nz\n\" id=\"DejaVuSans-122\"/>\n      </defs>\n      <use xlink:href=\"#DejaVuSans-83\"/>\n      <use x=\"63.476562\" xlink:href=\"#DejaVuSans-97\"/>\n      <use x=\"124.755859\" xlink:href=\"#DejaVuSans-109\"/>\n      <use x=\"222.167969\" xlink:href=\"#DejaVuSans-112\"/>\n      <use x=\"285.644531\" xlink:href=\"#DejaVuSans-108\"/>\n      <use x=\"313.427734\" xlink:href=\"#DejaVuSans-101\"/>\n      <use x=\"374.951172\" xlink:href=\"#DejaVuSans-32\"/>\n      <use x=\"406.738281\" xlink:href=\"#DejaVuSans-115\"/>\n      <use x=\"458.837891\" xlink:href=\"#DejaVuSans-105\"/>\n      <use x=\"486.621094\" xlink:href=\"#DejaVuSans-122\"/>\n      <use x=\"539.111328\" xlink:href=\"#DejaVuSans-101\"/>\n     </g>\n    </g>\n   </g>\n   <g id=\"matplotlib.axis_2\">\n    <g id=\"ytick_1\">\n     <g id=\"line2d_7\">\n      <defs>\n       <path d=\"M 0 0 \nL -3.5 0 \n\" id=\"m980166d2ea\" style=\"stroke:#000000;stroke-width:0.8;\"/>\n      </defs>\n      <g>\n       <use style=\"stroke:#000000;stroke-width:0.8;\" x=\"60.459063\" xlink:href=\"#m980166d2ea\" y=\"318.355413\"/>\n      </g>\n     </g>\n     <g id=\"text_8\">\n      <!-- −0.45 -->\n      <g transform=\"translate(22.81375 322.154631)scale(0.1 -0.1)\">\n       <defs>\n        <path d=\"M 10.59375 35.5 \nL 73.1875 35.5 \nL 73.1875 27.203125 \nL 10.59375 27.203125 \nz\n\" id=\"DejaVuSans-8722\"/>\n        <path d=\"M 10.6875 12.40625 \nL 21 12.40625 \nL 21 0 \nL 10.6875 0 \nz\n\" id=\"DejaVuSans-46\"/>\n        <path d=\"M 10.796875 72.90625 \nL 49.515625 72.90625 \nL 49.515625 64.59375 \nL 19.828125 64.59375 \nL 19.828125 46.734375 \nQ 21.96875 47.46875 24.109375 47.828125 \nQ 26.265625 48.1875 28.421875 48.1875 \nQ 40.625 48.1875 47.75 41.5 \nQ 54.890625 34.8125 54.890625 23.390625 \nQ 54.890625 11.625 47.5625 5.09375 \nQ 40.234375 -1.421875 26.90625 -1.421875 \nQ 22.3125 -1.421875 17.546875 -0.640625 \nQ 12.796875 0.140625 7.71875 1.703125 \nL 7.71875 11.625 \nQ 12.109375 9.234375 16.796875 8.0625 \nQ 21.484375 6.890625 26.703125 6.890625 \nQ 35.15625 6.890625 40.078125 11.328125 \nQ 45.015625 15.765625 45.015625 23.390625 \nQ 45.015625 31 40.078125 35.4375 \nQ 35.15625 39.890625 26.703125 39.890625 \nQ 22.75 39.890625 18.8125 39.015625 \nQ 14.890625 38.140625 10.796875 36.28125 \nz\n\" id=\"DejaVuSans-53\"/>\n       </defs>\n       <use xlink:href=\"#DejaVuSans-8722\"/>\n       <use x=\"83.789062\" xlink:href=\"#DejaVuSans-48\"/>\n       <use x=\"147.412109\" xlink:href=\"#DejaVuSans-46\"/>\n       <use x=\"179.199219\" xlink:href=\"#DejaVuSans-52\"/>\n       <use x=\"242.822266\" xlink:href=\"#DejaVuSans-53\"/>\n      </g>\n     </g>\n    </g>\n    <g id=\"ytick_2\">\n     <g id=\"line2d_8\">\n      <g>\n       <use style=\"stroke:#000000;stroke-width:0.8;\" x=\"60.459063\" xlink:href=\"#m980166d2ea\" y=\"249.686713\"/>\n      </g>\n     </g>\n     <g id=\"text_9\">\n      <!-- −0.40 -->\n      <g transform=\"translate(22.81375 253.485931)scale(0.1 -0.1)\">\n       <use xlink:href=\"#DejaVuSans-8722\"/>\n       <use x=\"83.789062\" xlink:href=\"#DejaVuSans-48\"/>\n       <use x=\"147.412109\" xlink:href=\"#DejaVuSans-46\"/>\n       <use x=\"179.199219\" xlink:href=\"#DejaVuSans-52\"/>\n       <use x=\"242.822266\" xlink:href=\"#DejaVuSans-48\"/>\n      </g>\n     </g>\n    </g>\n    <g id=\"ytick_3\">\n     <g id=\"line2d_9\">\n      <g>\n       <use style=\"stroke:#000000;stroke-width:0.8;\" x=\"60.459063\" xlink:href=\"#m980166d2ea\" y=\"181.018013\"/>\n      </g>\n     </g>\n     <g id=\"text_10\">\n      <!-- −0.35 -->\n      <g transform=\"translate(22.81375 184.817232)scale(0.1 -0.1)\">\n       <defs>\n        <path d=\"M 40.578125 39.3125 \nQ 47.65625 37.796875 51.625 33 \nQ 55.609375 28.21875 55.609375 21.1875 \nQ 55.609375 10.40625 48.1875 4.484375 \nQ 40.765625 -1.421875 27.09375 -1.421875 \nQ 22.515625 -1.421875 17.65625 -0.515625 \nQ 12.796875 0.390625 7.625 2.203125 \nL 7.625 11.71875 \nQ 11.71875 9.328125 16.59375 8.109375 \nQ 21.484375 6.890625 26.8125 6.890625 \nQ 36.078125 6.890625 40.9375 10.546875 \nQ 45.796875 14.203125 45.796875 21.1875 \nQ 45.796875 27.640625 41.28125 31.265625 \nQ 36.765625 34.90625 28.71875 34.90625 \nL 20.21875 34.90625 \nL 20.21875 43.015625 \nL 29.109375 43.015625 \nQ 36.375 43.015625 40.234375 45.921875 \nQ 44.09375 48.828125 44.09375 54.296875 \nQ 44.09375 59.90625 40.109375 62.90625 \nQ 36.140625 65.921875 28.71875 65.921875 \nQ 24.65625 65.921875 20.015625 65.03125 \nQ 15.375 64.15625 9.8125 62.3125 \nL 9.8125 71.09375 \nQ 15.4375 72.65625 20.34375 73.4375 \nQ 25.25 74.21875 29.59375 74.21875 \nQ 40.828125 74.21875 47.359375 69.109375 \nQ 53.90625 64.015625 53.90625 55.328125 \nQ 53.90625 49.265625 50.4375 45.09375 \nQ 46.96875 40.921875 40.578125 39.3125 \nz\n\" id=\"DejaVuSans-51\"/>\n       </defs>\n       <use xlink:href=\"#DejaVuSans-8722\"/>\n       <use x=\"83.789062\" xlink:href=\"#DejaVuSans-48\"/>\n       <use x=\"147.412109\" xlink:href=\"#DejaVuSans-46\"/>\n       <use x=\"179.199219\" xlink:href=\"#DejaVuSans-51\"/>\n       <use x=\"242.822266\" xlink:href=\"#DejaVuSans-53\"/>\n      </g>\n     </g>\n    </g>\n    <g id=\"ytick_4\">\n     <g id=\"line2d_10\">\n      <g>\n       <use style=\"stroke:#000000;stroke-width:0.8;\" x=\"60.459063\" xlink:href=\"#m980166d2ea\" y=\"112.349313\"/>\n      </g>\n     </g>\n     <g id=\"text_11\">\n      <!-- −0.30 -->\n      <g transform=\"translate(22.81375 116.148532)scale(0.1 -0.1)\">\n       <use xlink:href=\"#DejaVuSans-8722\"/>\n       <use x=\"83.789062\" xlink:href=\"#DejaVuSans-48\"/>\n       <use x=\"147.412109\" xlink:href=\"#DejaVuSans-46\"/>\n       <use x=\"179.199219\" xlink:href=\"#DejaVuSans-51\"/>\n       <use x=\"242.822266\" xlink:href=\"#DejaVuSans-48\"/>\n      </g>\n     </g>\n    </g>\n    <g id=\"ytick_5\">\n     <g id=\"line2d_11\">\n      <g>\n       <use style=\"stroke:#000000;stroke-width:0.8;\" x=\"60.459063\" xlink:href=\"#m980166d2ea\" y=\"43.680613\"/>\n      </g>\n     </g>\n     <g id=\"text_12\">\n      <!-- −0.25 -->\n      <g transform=\"translate(22.81375 47.479832)scale(0.1 -0.1)\">\n       <use xlink:href=\"#DejaVuSans-8722\"/>\n       <use x=\"83.789062\" xlink:href=\"#DejaVuSans-48\"/>\n       <use x=\"147.412109\" xlink:href=\"#DejaVuSans-46\"/>\n       <use x=\"179.199219\" xlink:href=\"#DejaVuSans-50\"/>\n       <use x=\"242.822266\" xlink:href=\"#DejaVuSans-53\"/>\n      </g>\n     </g>\n    </g>\n    <g id=\"text_13\">\n     <!-- Estimated mean -->\n     <g transform=\"translate(16.318125 236.150625)rotate(-90)scale(0.12 -0.12)\">\n      <defs>\n       <path d=\"M 9.8125 72.90625 \nL 55.90625 72.90625 \nL 55.90625 64.59375 \nL 19.671875 64.59375 \nL 19.671875 43.015625 \nL 54.390625 43.015625 \nL 54.390625 34.71875 \nL 19.671875 34.71875 \nL 19.671875 8.296875 \nL 56.78125 8.296875 \nL 56.78125 0 \nL 9.8125 0 \nz\n\" id=\"DejaVuSans-69\"/>\n       <path d=\"M 18.3125 70.21875 \nL 18.3125 54.6875 \nL 36.8125 54.6875 \nL 36.8125 47.703125 \nL 18.3125 47.703125 \nL 18.3125 18.015625 \nQ 18.3125 11.328125 20.140625 9.421875 \nQ 21.96875 7.515625 27.59375 7.515625 \nL 36.8125 7.515625 \nL 36.8125 0 \nL 27.59375 0 \nQ 17.1875 0 13.234375 3.875 \nQ 9.28125 7.765625 9.28125 18.015625 \nL 9.28125 47.703125 \nL 2.6875 47.703125 \nL 2.6875 54.6875 \nL 9.28125 54.6875 \nL 9.28125 70.21875 \nz\n\" id=\"DejaVuSans-116\"/>\n       <path d=\"M 45.40625 46.390625 \nL 45.40625 75.984375 \nL 54.390625 75.984375 \nL 54.390625 0 \nL 45.40625 0 \nL 45.40625 8.203125 \nQ 42.578125 3.328125 38.25 0.953125 \nQ 33.9375 -1.421875 27.875 -1.421875 \nQ 17.96875 -1.421875 11.734375 6.484375 \nQ 5.515625 14.40625 5.515625 27.296875 \nQ 5.515625 40.1875 11.734375 48.09375 \nQ 17.96875 56 27.875 56 \nQ 33.9375 56 38.25 53.625 \nQ 42.578125 51.265625 45.40625 46.390625 \nz\nM 14.796875 27.296875 \nQ 14.796875 17.390625 18.875 11.75 \nQ 22.953125 6.109375 30.078125 6.109375 \nQ 37.203125 6.109375 41.296875 11.75 \nQ 45.40625 17.390625 45.40625 27.296875 \nQ 45.40625 37.203125 41.296875 42.84375 \nQ 37.203125 48.484375 30.078125 48.484375 \nQ 22.953125 48.484375 18.875 42.84375 \nQ 14.796875 37.203125 14.796875 27.296875 \nz\n\" id=\"DejaVuSans-100\"/>\n       <path d=\"M 54.890625 33.015625 \nL 54.890625 0 \nL 45.90625 0 \nL 45.90625 32.71875 \nQ 45.90625 40.484375 42.875 44.328125 \nQ 39.84375 48.1875 33.796875 48.1875 \nQ 26.515625 48.1875 22.3125 43.546875 \nQ 18.109375 38.921875 18.109375 30.90625 \nL 18.109375 0 \nL 9.078125 0 \nL 9.078125 54.6875 \nL 18.109375 54.6875 \nL 18.109375 46.1875 \nQ 21.34375 51.125 25.703125 53.5625 \nQ 30.078125 56 35.796875 56 \nQ 45.21875 56 50.046875 50.171875 \nQ 54.890625 44.34375 54.890625 33.015625 \nz\n\" id=\"DejaVuSans-110\"/>\n      </defs>\n      <use xlink:href=\"#DejaVuSans-69\"/>\n      <use x=\"63.183594\" xlink:href=\"#DejaVuSans-115\"/>\n      <use x=\"115.283203\" xlink:href=\"#DejaVuSans-116\"/>\n      <use x=\"154.492188\" xlink:href=\"#DejaVuSans-105\"/>\n      <use x=\"182.275391\" xlink:href=\"#DejaVuSans-109\"/>\n      <use x=\"279.6875\" xlink:href=\"#DejaVuSans-97\"/>\n      <use x=\"340.966797\" xlink:href=\"#DejaVuSans-116\"/>\n      <use x=\"380.175781\" xlink:href=\"#DejaVuSans-101\"/>\n      <use x=\"441.699219\" xlink:href=\"#DejaVuSans-100\"/>\n      <use x=\"505.175781\" xlink:href=\"#DejaVuSans-32\"/>\n      <use x=\"536.962891\" xlink:href=\"#DejaVuSans-109\"/>\n      <use x=\"634.375\" xlink:href=\"#DejaVuSans-101\"/>\n      <use x=\"695.898438\" xlink:href=\"#DejaVuSans-97\"/>\n      <use x=\"757.177734\" xlink:href=\"#DejaVuSans-110\"/>\n     </g>\n    </g>\n   </g>\n   <g id=\"line2d_12\">\n    <path clip-path=\"url(#p048e9113c4)\" d=\"M 83.286335 187.134296 \nL 85.580533 104.888129 \nL 92.463128 150.233258 \nL 103.93412 184.15146 \nL 126.876102 180.849736 \nL 227.820826 190.607188 \nL 310.411963 190.729475 \nL 539.83179 190.880626 \n\" style=\"fill:none;stroke:#1f77b4;stroke-dasharray:5.55,2.4;stroke-dashoffset:0;stroke-width:1.5;\"/>\n    <defs>\n     <path d=\"M 0 3 \nC 0.795609 3 1.55874 2.683901 2.12132 2.12132 \nC 2.683901 1.55874 3 0.795609 3 0 \nC 3 -0.795609 2.683901 -1.55874 2.12132 -2.12132 \nC 1.55874 -2.683901 0.795609 -3 0 -3 \nC -0.795609 -3 -1.55874 -2.683901 -2.12132 -2.12132 \nC -2.683901 -1.55874 -3 -0.795609 -3 0 \nC -3 0.795609 -2.683901 1.55874 -2.12132 2.12132 \nC -1.55874 2.683901 -0.795609 3 0 3 \nz\n\" id=\"m081217feca\" style=\"stroke:#1f77b4;\"/>\n    </defs>\n    <g clip-path=\"url(#p048e9113c4)\">\n     <use style=\"fill:#1f77b4;stroke:#1f77b4;\" x=\"83.286335\" xlink:href=\"#m081217feca\" y=\"187.134296\"/>\n     <use style=\"fill:#1f77b4;stroke:#1f77b4;\" x=\"85.580533\" xlink:href=\"#m081217feca\" y=\"104.888129\"/>\n     <use style=\"fill:#1f77b4;stroke:#1f77b4;\" x=\"92.463128\" xlink:href=\"#m081217feca\" y=\"150.233258\"/>\n     <use style=\"fill:#1f77b4;stroke:#1f77b4;\" x=\"103.93412\" xlink:href=\"#m081217feca\" y=\"184.15146\"/>\n     <use style=\"fill:#1f77b4;stroke:#1f77b4;\" x=\"126.876102\" xlink:href=\"#m081217feca\" y=\"180.849736\"/>\n     <use style=\"fill:#1f77b4;stroke:#1f77b4;\" x=\"227.820826\" xlink:href=\"#m081217feca\" y=\"190.607188\"/>\n     <use style=\"fill:#1f77b4;stroke:#1f77b4;\" x=\"310.411963\" xlink:href=\"#m081217feca\" y=\"190.729475\"/>\n     <use style=\"fill:#1f77b4;stroke:#1f77b4;\" x=\"539.83179\" xlink:href=\"#m081217feca\" y=\"190.880626\"/>\n    </g>\n   </g>\n   <g id=\"line2d_13\">\n    <path clip-path=\"url(#p048e9113c4)\" d=\"M 83.286335 200.280825 \nL 85.580533 213.372189 \nL 92.463128 207.520552 \nL 103.93412 202.591919 \nL 126.876102 200.681614 \nL 227.820826 198.064873 \nL 310.411963 202.181009 \nL 539.83179 198.46013 \n\" style=\"fill:none;stroke:#ff7f0e;stroke-dasharray:5.55,2.4;stroke-dashoffset:0;stroke-width:1.5;\"/>\n    <defs>\n     <path d=\"M -0 3 \nL 3 -3 \nL -3 -3 \nz\n\" id=\"mb19d16d27f\" style=\"stroke:#ff7f0e;stroke-linejoin:miter;\"/>\n    </defs>\n    <g clip-path=\"url(#p048e9113c4)\">\n     <use style=\"fill:#ff7f0e;stroke:#ff7f0e;stroke-linejoin:miter;\" x=\"83.286335\" xlink:href=\"#mb19d16d27f\" y=\"200.280825\"/>\n     <use style=\"fill:#ff7f0e;stroke:#ff7f0e;stroke-linejoin:miter;\" x=\"85.580533\" xlink:href=\"#mb19d16d27f\" y=\"213.372189\"/>\n     <use style=\"fill:#ff7f0e;stroke:#ff7f0e;stroke-linejoin:miter;\" x=\"92.463128\" xlink:href=\"#mb19d16d27f\" y=\"207.520552\"/>\n     <use style=\"fill:#ff7f0e;stroke:#ff7f0e;stroke-linejoin:miter;\" x=\"103.93412\" xlink:href=\"#mb19d16d27f\" y=\"202.591919\"/>\n     <use style=\"fill:#ff7f0e;stroke:#ff7f0e;stroke-linejoin:miter;\" x=\"126.876102\" xlink:href=\"#mb19d16d27f\" y=\"200.681614\"/>\n     <use style=\"fill:#ff7f0e;stroke:#ff7f0e;stroke-linejoin:miter;\" x=\"227.820826\" xlink:href=\"#mb19d16d27f\" y=\"198.064873\"/>\n     <use style=\"fill:#ff7f0e;stroke:#ff7f0e;stroke-linejoin:miter;\" x=\"310.411963\" xlink:href=\"#mb19d16d27f\" y=\"202.181009\"/>\n     <use style=\"fill:#ff7f0e;stroke:#ff7f0e;stroke-linejoin:miter;\" x=\"539.83179\" xlink:href=\"#mb19d16d27f\" y=\"198.46013\"/>\n    </g>\n   </g>\n   <g id=\"line2d_14\">\n    <path clip-path=\"url(#p048e9113c4)\" d=\"M 83.286335 199.636099 \nL 85.580533 206.31867 \nL 92.463128 199.391135 \nL 103.93412 199.032932 \nL 126.876102 200.273105 \nL 227.820826 200.837153 \nL 310.411963 201.191574 \nL 539.83179 200.728058 \n\" style=\"fill:none;stroke:#2ca02c;stroke-dasharray:5.55,2.4;stroke-dashoffset:0;stroke-width:1.5;\"/>\n    <defs>\n     <path d=\"M -3 3 \nL 3 3 \nL 3 -3 \nL -3 -3 \nz\n\" id=\"m913cad68b0\" style=\"stroke:#2ca02c;stroke-linejoin:miter;\"/>\n    </defs>\n    <g clip-path=\"url(#p048e9113c4)\">\n     <use style=\"fill:#2ca02c;stroke:#2ca02c;stroke-linejoin:miter;\" x=\"83.286335\" xlink:href=\"#m913cad68b0\" y=\"199.636099\"/>\n     <use style=\"fill:#2ca02c;stroke:#2ca02c;stroke-linejoin:miter;\" x=\"85.580533\" xlink:href=\"#m913cad68b0\" y=\"206.31867\"/>\n     <use style=\"fill:#2ca02c;stroke:#2ca02c;stroke-linejoin:miter;\" x=\"92.463128\" xlink:href=\"#m913cad68b0\" y=\"199.391135\"/>\n     <use style=\"fill:#2ca02c;stroke:#2ca02c;stroke-linejoin:miter;\" x=\"103.93412\" xlink:href=\"#m913cad68b0\" y=\"199.032932\"/>\n     <use style=\"fill:#2ca02c;stroke:#2ca02c;stroke-linejoin:miter;\" x=\"126.876102\" xlink:href=\"#m913cad68b0\" y=\"200.273105\"/>\n     <use style=\"fill:#2ca02c;stroke:#2ca02c;stroke-linejoin:miter;\" x=\"227.820826\" xlink:href=\"#m913cad68b0\" y=\"200.837153\"/>\n     <use style=\"fill:#2ca02c;stroke:#2ca02c;stroke-linejoin:miter;\" x=\"310.411963\" xlink:href=\"#m913cad68b0\" y=\"201.191574\"/>\n     <use style=\"fill:#2ca02c;stroke:#2ca02c;stroke-linejoin:miter;\" x=\"539.83179\" xlink:href=\"#m913cad68b0\" y=\"200.728058\"/>\n    </g>\n   </g>\n   <g id=\"line2d_15\">\n    <path clip-path=\"url(#p048e9113c4)\" d=\"M 60.459063 200.999015 \nL 562.659063 200.999015 \n\" style=\"fill:none;stroke:#000000;stroke-linecap:square;stroke-width:1.5;\"/>\n   </g>\n   <g id=\"patch_3\">\n    <path d=\"M 60.459063 349.997812 \nL 60.459063 23.837812 \n\" style=\"fill:none;stroke:#000000;stroke-linecap:square;stroke-linejoin:miter;stroke-width:0.8;\"/>\n   </g>\n   <g id=\"patch_4\">\n    <path d=\"M 562.659063 349.997812 \nL 562.659063 23.837812 \n\" style=\"fill:none;stroke:#000000;stroke-linecap:square;stroke-linejoin:miter;stroke-width:0.8;\"/>\n   </g>\n   <g id=\"patch_5\">\n    <path d=\"M 60.459063 349.997812 \nL 562.659063 349.997812 \n\" style=\"fill:none;stroke:#000000;stroke-linecap:square;stroke-linejoin:miter;stroke-width:0.8;\"/>\n   </g>\n   <g id=\"patch_6\">\n    <path d=\"M 60.459063 23.837812 \nL 562.659063 23.837812 \n\" style=\"fill:none;stroke:#000000;stroke-linecap:square;stroke-linejoin:miter;stroke-width:0.8;\"/>\n   </g>\n   <g id=\"text_14\">\n    <!-- Mean estimation for CT_Branin_Problem (51 reps) -->\n    <g transform=\"translate(137.524844 17.837812)scale(0.14 -0.14)\">\n     <defs>\n      <path d=\"M 9.8125 72.90625 \nL 24.515625 72.90625 \nL 43.109375 23.296875 \nL 61.8125 72.90625 \nL 76.515625 72.90625 \nL 76.515625 0 \nL 66.890625 0 \nL 66.890625 64.015625 \nL 48.09375 14.015625 \nL 38.1875 14.015625 \nL 19.390625 64.015625 \nL 19.390625 0 \nL 9.8125 0 \nz\n\" id=\"DejaVuSans-77\"/>\n      <path d=\"M 30.609375 48.390625 \nQ 23.390625 48.390625 19.1875 42.75 \nQ 14.984375 37.109375 14.984375 27.296875 \nQ 14.984375 17.484375 19.15625 11.84375 \nQ 23.34375 6.203125 30.609375 6.203125 \nQ 37.796875 6.203125 41.984375 11.859375 \nQ 46.1875 17.53125 46.1875 27.296875 \nQ 46.1875 37.015625 41.984375 42.703125 \nQ 37.796875 48.390625 30.609375 48.390625 \nz\nM 30.609375 56 \nQ 42.328125 56 49.015625 48.375 \nQ 55.71875 40.765625 55.71875 27.296875 \nQ 55.71875 13.875 49.015625 6.21875 \nQ 42.328125 -1.421875 30.609375 -1.421875 \nQ 18.84375 -1.421875 12.171875 6.21875 \nQ 5.515625 13.875 5.515625 27.296875 \nQ 5.515625 40.765625 12.171875 48.375 \nQ 18.84375 56 30.609375 56 \nz\n\" id=\"DejaVuSans-111\"/>\n      <path d=\"M 37.109375 75.984375 \nL 37.109375 68.5 \nL 28.515625 68.5 \nQ 23.6875 68.5 21.796875 66.546875 \nQ 19.921875 64.59375 19.921875 59.515625 \nL 19.921875 54.6875 \nL 34.71875 54.6875 \nL 34.71875 47.703125 \nL 19.921875 47.703125 \nL 19.921875 0 \nL 10.890625 0 \nL 10.890625 47.703125 \nL 2.296875 47.703125 \nL 2.296875 54.6875 \nL 10.890625 54.6875 \nL 10.890625 58.5 \nQ 10.890625 67.625 15.140625 71.796875 \nQ 19.390625 75.984375 28.609375 75.984375 \nz\n\" id=\"DejaVuSans-102\"/>\n      <path d=\"M 41.109375 46.296875 \nQ 39.59375 47.171875 37.8125 47.578125 \nQ 36.03125 48 33.890625 48 \nQ 26.265625 48 22.1875 43.046875 \nQ 18.109375 38.09375 18.109375 28.8125 \nL 18.109375 0 \nL 9.078125 0 \nL 9.078125 54.6875 \nL 18.109375 54.6875 \nL 18.109375 46.1875 \nQ 20.953125 51.171875 25.484375 53.578125 \nQ 30.03125 56 36.53125 56 \nQ 37.453125 56 38.578125 55.875 \nQ 39.703125 55.765625 41.0625 55.515625 \nz\n\" id=\"DejaVuSans-114\"/>\n      <path d=\"M 64.40625 67.28125 \nL 64.40625 56.890625 \nQ 59.421875 61.53125 53.78125 63.8125 \nQ 48.140625 66.109375 41.796875 66.109375 \nQ 29.296875 66.109375 22.65625 58.46875 \nQ 16.015625 50.828125 16.015625 36.375 \nQ 16.015625 21.96875 22.65625 14.328125 \nQ 29.296875 6.6875 41.796875 6.6875 \nQ 48.140625 6.6875 53.78125 8.984375 \nQ 59.421875 11.28125 64.40625 15.921875 \nL 64.40625 5.609375 \nQ 59.234375 2.09375 53.4375 0.328125 \nQ 47.65625 -1.421875 41.21875 -1.421875 \nQ 24.65625 -1.421875 15.125 8.703125 \nQ 5.609375 18.84375 5.609375 36.375 \nQ 5.609375 53.953125 15.125 64.078125 \nQ 24.65625 74.21875 41.21875 74.21875 \nQ 47.75 74.21875 53.53125 72.484375 \nQ 59.328125 70.75 64.40625 67.28125 \nz\n\" id=\"DejaVuSans-67\"/>\n      <path d=\"M -0.296875 72.90625 \nL 61.375 72.90625 \nL 61.375 64.59375 \nL 35.5 64.59375 \nL 35.5 0 \nL 25.59375 0 \nL 25.59375 64.59375 \nL -0.296875 64.59375 \nz\n\" id=\"DejaVuSans-84\"/>\n      <path d=\"M 50.984375 -16.609375 \nL 50.984375 -23.578125 \nL -0.984375 -23.578125 \nL -0.984375 -16.609375 \nz\n\" id=\"DejaVuSans-95\"/>\n      <path d=\"M 19.671875 34.8125 \nL 19.671875 8.109375 \nL 35.5 8.109375 \nQ 43.453125 8.109375 47.28125 11.40625 \nQ 51.125 14.703125 51.125 21.484375 \nQ 51.125 28.328125 47.28125 31.5625 \nQ 43.453125 34.8125 35.5 34.8125 \nz\nM 19.671875 64.796875 \nL 19.671875 42.828125 \nL 34.28125 42.828125 \nQ 41.5 42.828125 45.03125 45.53125 \nQ 48.578125 48.25 48.578125 53.8125 \nQ 48.578125 59.328125 45.03125 62.0625 \nQ 41.5 64.796875 34.28125 64.796875 \nz\nM 9.8125 72.90625 \nL 35.015625 72.90625 \nQ 46.296875 72.90625 52.390625 68.21875 \nQ 58.5 63.53125 58.5 54.890625 \nQ 58.5 48.1875 55.375 44.234375 \nQ 52.25 40.28125 46.1875 39.3125 \nQ 53.46875 37.75 57.5 32.78125 \nQ 61.53125 27.828125 61.53125 20.40625 \nQ 61.53125 10.640625 54.890625 5.3125 \nQ 48.25 0 35.984375 0 \nL 9.8125 0 \nz\n\" id=\"DejaVuSans-66\"/>\n      <path d=\"M 19.671875 64.796875 \nL 19.671875 37.40625 \nL 32.078125 37.40625 \nQ 38.96875 37.40625 42.71875 40.96875 \nQ 46.484375 44.53125 46.484375 51.125 \nQ 46.484375 57.671875 42.71875 61.234375 \nQ 38.96875 64.796875 32.078125 64.796875 \nz\nM 9.8125 72.90625 \nL 32.078125 72.90625 \nQ 44.34375 72.90625 50.609375 67.359375 \nQ 56.890625 61.8125 56.890625 51.125 \nQ 56.890625 40.328125 50.609375 34.8125 \nQ 44.34375 29.296875 32.078125 29.296875 \nL 19.671875 29.296875 \nL 19.671875 0 \nL 9.8125 0 \nz\n\" id=\"DejaVuSans-80\"/>\n      <path d=\"M 48.6875 27.296875 \nQ 48.6875 37.203125 44.609375 42.84375 \nQ 40.53125 48.484375 33.40625 48.484375 \nQ 26.265625 48.484375 22.1875 42.84375 \nQ 18.109375 37.203125 18.109375 27.296875 \nQ 18.109375 17.390625 22.1875 11.75 \nQ 26.265625 6.109375 33.40625 6.109375 \nQ 40.53125 6.109375 44.609375 11.75 \nQ 48.6875 17.390625 48.6875 27.296875 \nz\nM 18.109375 46.390625 \nQ 20.953125 51.265625 25.265625 53.625 \nQ 29.59375 56 35.59375 56 \nQ 45.5625 56 51.78125 48.09375 \nQ 58.015625 40.1875 58.015625 27.296875 \nQ 58.015625 14.40625 51.78125 6.484375 \nQ 45.5625 -1.421875 35.59375 -1.421875 \nQ 29.59375 -1.421875 25.265625 0.953125 \nQ 20.953125 3.328125 18.109375 8.203125 \nL 18.109375 0 \nL 9.078125 0 \nL 9.078125 75.984375 \nL 18.109375 75.984375 \nz\n\" id=\"DejaVuSans-98\"/>\n      <path d=\"M 31 75.875 \nQ 24.46875 64.65625 21.28125 53.65625 \nQ 18.109375 42.671875 18.109375 31.390625 \nQ 18.109375 20.125 21.3125 9.0625 \nQ 24.515625 -2 31 -13.1875 \nL 23.1875 -13.1875 \nQ 15.875 -1.703125 12.234375 9.375 \nQ 8.59375 20.453125 8.59375 31.390625 \nQ 8.59375 42.28125 12.203125 53.3125 \nQ 15.828125 64.359375 23.1875 75.875 \nz\n\" id=\"DejaVuSans-40\"/>\n      <path d=\"M 8.015625 75.875 \nL 15.828125 75.875 \nQ 23.140625 64.359375 26.78125 53.3125 \nQ 30.421875 42.28125 30.421875 31.390625 \nQ 30.421875 20.453125 26.78125 9.375 \nQ 23.140625 -1.703125 15.828125 -13.1875 \nL 8.015625 -13.1875 \nQ 14.5 -2 17.703125 9.0625 \nQ 20.90625 20.125 20.90625 31.390625 \nQ 20.90625 42.671875 17.703125 53.65625 \nQ 14.5 64.65625 8.015625 75.875 \nz\n\" id=\"DejaVuSans-41\"/>\n     </defs>\n     <use xlink:href=\"#DejaVuSans-77\"/>\n     <use x=\"86.279297\" xlink:href=\"#DejaVuSans-101\"/>\n     <use x=\"147.802734\" xlink:href=\"#DejaVuSans-97\"/>\n     <use x=\"209.082031\" xlink:href=\"#DejaVuSans-110\"/>\n     <use x=\"272.460938\" xlink:href=\"#DejaVuSans-32\"/>\n     <use x=\"304.248047\" xlink:href=\"#DejaVuSans-101\"/>\n     <use x=\"365.771484\" xlink:href=\"#DejaVuSans-115\"/>\n     <use x=\"417.871094\" xlink:href=\"#DejaVuSans-116\"/>\n     <use x=\"457.080078\" xlink:href=\"#DejaVuSans-105\"/>\n     <use x=\"484.863281\" xlink:href=\"#DejaVuSans-109\"/>\n     <use x=\"582.275391\" xlink:href=\"#DejaVuSans-97\"/>\n     <use x=\"643.554688\" xlink:href=\"#DejaVuSans-116\"/>\n     <use x=\"682.763672\" xlink:href=\"#DejaVuSans-105\"/>\n     <use x=\"710.546875\" xlink:href=\"#DejaVuSans-111\"/>\n     <use x=\"771.728516\" xlink:href=\"#DejaVuSans-110\"/>\n     <use x=\"835.107422\" xlink:href=\"#DejaVuSans-32\"/>\n     <use x=\"866.894531\" xlink:href=\"#DejaVuSans-102\"/>\n     <use x=\"902.099609\" xlink:href=\"#DejaVuSans-111\"/>\n     <use x=\"963.28125\" xlink:href=\"#DejaVuSans-114\"/>\n     <use x=\"1004.394531\" xlink:href=\"#DejaVuSans-32\"/>\n     <use x=\"1036.181641\" xlink:href=\"#DejaVuSans-67\"/>\n     <use x=\"1106.005859\" xlink:href=\"#DejaVuSans-84\"/>\n     <use x=\"1167.089844\" xlink:href=\"#DejaVuSans-95\"/>\n     <use x=\"1217.089844\" xlink:href=\"#DejaVuSans-66\"/>\n     <use x=\"1285.693359\" xlink:href=\"#DejaVuSans-114\"/>\n     <use x=\"1326.806641\" xlink:href=\"#DejaVuSans-97\"/>\n     <use x=\"1388.085938\" xlink:href=\"#DejaVuSans-110\"/>\n     <use x=\"1451.464844\" xlink:href=\"#DejaVuSans-105\"/>\n     <use x=\"1479.248047\" xlink:href=\"#DejaVuSans-110\"/>\n     <use x=\"1542.626953\" xlink:href=\"#DejaVuSans-95\"/>\n     <use x=\"1592.626953\" xlink:href=\"#DejaVuSans-80\"/>\n     <use x=\"1651.179688\" xlink:href=\"#DejaVuSans-114\"/>\n     <use x=\"1690.042969\" xlink:href=\"#DejaVuSans-111\"/>\n     <use x=\"1751.224609\" xlink:href=\"#DejaVuSans-98\"/>\n     <use x=\"1814.701172\" xlink:href=\"#DejaVuSans-108\"/>\n     <use x=\"1842.484375\" xlink:href=\"#DejaVuSans-101\"/>\n     <use x=\"1904.007812\" xlink:href=\"#DejaVuSans-109\"/>\n     <use x=\"2001.419922\" xlink:href=\"#DejaVuSans-32\"/>\n     <use x=\"2033.207031\" xlink:href=\"#DejaVuSans-40\"/>\n     <use x=\"2072.220703\" xlink:href=\"#DejaVuSans-53\"/>\n     <use x=\"2135.84375\" xlink:href=\"#DejaVuSans-49\"/>\n     <use x=\"2199.466797\" xlink:href=\"#DejaVuSans-32\"/>\n     <use x=\"2231.253906\" xlink:href=\"#DejaVuSans-114\"/>\n     <use x=\"2270.117188\" xlink:href=\"#DejaVuSans-101\"/>\n     <use x=\"2331.640625\" xlink:href=\"#DejaVuSans-112\"/>\n     <use x=\"2395.117188\" xlink:href=\"#DejaVuSans-115\"/>\n     <use x=\"2447.216797\" xlink:href=\"#DejaVuSans-41\"/>\n    </g>\n   </g>\n   <g id=\"legend_1\">\n    <g id=\"patch_7\">\n     <path d=\"M 351.819063 104.879062 \nL 554.259063 104.879062 \nQ 556.659063 104.879062 556.659063 102.479062 \nL 556.659063 32.237812 \nQ 556.659063 29.837812 554.259063 29.837812 \nL 351.819063 29.837812 \nQ 349.419063 29.837812 349.419063 32.237812 \nL 349.419063 102.479062 \nQ 349.419063 104.879062 351.819063 104.879062 \nz\n\" style=\"fill:#ffffff;opacity:0.8;stroke:#cccccc;stroke-linejoin:miter;\"/>\n    </g>\n    <g id=\"line2d_16\">\n     <path d=\"M 354.219063 39.555937 \nL 378.219063 39.555937 \n\" style=\"fill:none;stroke:#1f77b4;stroke-dasharray:5.55,2.4;stroke-dashoffset:0;stroke-width:1.5;\"/>\n    </g>\n    <g id=\"line2d_17\">\n     <g>\n      <use style=\"fill:#1f77b4;stroke:#1f77b4;\" x=\"366.219063\" xlink:href=\"#m081217feca\" y=\"39.555937\"/>\n     </g>\n    </g>\n    <g id=\"text_15\">\n     <!-- RegularGrid -->\n     <g transform=\"translate(387.819063 43.755937)scale(0.12 -0.12)\">\n      <defs>\n       <path d=\"M 44.390625 34.1875 \nQ 47.5625 33.109375 50.5625 29.59375 \nQ 53.5625 26.078125 56.59375 19.921875 \nL 66.609375 0 \nL 56 0 \nL 46.6875 18.703125 \nQ 43.0625 26.03125 39.671875 28.421875 \nQ 36.28125 30.8125 30.421875 30.8125 \nL 19.671875 30.8125 \nL 19.671875 0 \nL 9.8125 0 \nL 9.8125 72.90625 \nL 32.078125 72.90625 \nQ 44.578125 72.90625 50.734375 67.671875 \nQ 56.890625 62.453125 56.890625 51.90625 \nQ 56.890625 45.015625 53.6875 40.46875 \nQ 50.484375 35.9375 44.390625 34.1875 \nz\nM 19.671875 64.796875 \nL 19.671875 38.921875 \nL 32.078125 38.921875 \nQ 39.203125 38.921875 42.84375 42.21875 \nQ 46.484375 45.515625 46.484375 51.90625 \nQ 46.484375 58.296875 42.84375 61.546875 \nQ 39.203125 64.796875 32.078125 64.796875 \nz\n\" id=\"DejaVuSans-82\"/>\n       <path d=\"M 45.40625 27.984375 \nQ 45.40625 37.75 41.375 43.109375 \nQ 37.359375 48.484375 30.078125 48.484375 \nQ 22.859375 48.484375 18.828125 43.109375 \nQ 14.796875 37.75 14.796875 27.984375 \nQ 14.796875 18.265625 18.828125 12.890625 \nQ 22.859375 7.515625 30.078125 7.515625 \nQ 37.359375 7.515625 41.375 12.890625 \nQ 45.40625 18.265625 45.40625 27.984375 \nz\nM 54.390625 6.78125 \nQ 54.390625 -7.171875 48.1875 -13.984375 \nQ 42 -20.796875 29.203125 -20.796875 \nQ 24.46875 -20.796875 20.265625 -20.09375 \nQ 16.0625 -19.390625 12.109375 -17.921875 \nL 12.109375 -9.1875 \nQ 16.0625 -11.328125 19.921875 -12.34375 \nQ 23.78125 -13.375 27.78125 -13.375 \nQ 36.625 -13.375 41.015625 -8.765625 \nQ 45.40625 -4.15625 45.40625 5.171875 \nL 45.40625 9.625 \nQ 42.625 4.78125 38.28125 2.390625 \nQ 33.9375 0 27.875 0 \nQ 17.828125 0 11.671875 7.65625 \nQ 5.515625 15.328125 5.515625 27.984375 \nQ 5.515625 40.671875 11.671875 48.328125 \nQ 17.828125 56 27.875 56 \nQ 33.9375 56 38.28125 53.609375 \nQ 42.625 51.21875 45.40625 46.390625 \nL 45.40625 54.6875 \nL 54.390625 54.6875 \nz\n\" id=\"DejaVuSans-103\"/>\n       <path d=\"M 8.5 21.578125 \nL 8.5 54.6875 \nL 17.484375 54.6875 \nL 17.484375 21.921875 \nQ 17.484375 14.15625 20.5 10.265625 \nQ 23.53125 6.390625 29.59375 6.390625 \nQ 36.859375 6.390625 41.078125 11.03125 \nQ 45.3125 15.671875 45.3125 23.6875 \nL 45.3125 54.6875 \nL 54.296875 54.6875 \nL 54.296875 0 \nL 45.3125 0 \nL 45.3125 8.40625 \nQ 42.046875 3.421875 37.71875 1 \nQ 33.40625 -1.421875 27.6875 -1.421875 \nQ 18.265625 -1.421875 13.375 4.4375 \nQ 8.5 10.296875 8.5 21.578125 \nz\nM 31.109375 56 \nz\n\" id=\"DejaVuSans-117\"/>\n       <path d=\"M 59.515625 10.40625 \nL 59.515625 29.984375 \nL 43.40625 29.984375 \nL 43.40625 38.09375 \nL 69.28125 38.09375 \nL 69.28125 6.78125 \nQ 63.578125 2.734375 56.6875 0.65625 \nQ 49.8125 -1.421875 42 -1.421875 \nQ 24.90625 -1.421875 15.25 8.5625 \nQ 5.609375 18.5625 5.609375 36.375 \nQ 5.609375 54.25 15.25 64.234375 \nQ 24.90625 74.21875 42 74.21875 \nQ 49.125 74.21875 55.546875 72.453125 \nQ 61.96875 70.703125 67.390625 67.28125 \nL 67.390625 56.78125 \nQ 61.921875 61.421875 55.765625 63.765625 \nQ 49.609375 66.109375 42.828125 66.109375 \nQ 29.4375 66.109375 22.71875 58.640625 \nQ 16.015625 51.171875 16.015625 36.375 \nQ 16.015625 21.625 22.71875 14.15625 \nQ 29.4375 6.6875 42.828125 6.6875 \nQ 48.046875 6.6875 52.140625 7.59375 \nQ 56.25 8.5 59.515625 10.40625 \nz\n\" id=\"DejaVuSans-71\"/>\n      </defs>\n      <use xlink:href=\"#DejaVuSans-82\"/>\n      <use x=\"64.982422\" xlink:href=\"#DejaVuSans-101\"/>\n      <use x=\"126.505859\" xlink:href=\"#DejaVuSans-103\"/>\n      <use x=\"189.982422\" xlink:href=\"#DejaVuSans-117\"/>\n      <use x=\"253.361328\" xlink:href=\"#DejaVuSans-108\"/>\n      <use x=\"281.144531\" xlink:href=\"#DejaVuSans-97\"/>\n      <use x=\"342.423828\" xlink:href=\"#DejaVuSans-114\"/>\n      <use x=\"383.537109\" xlink:href=\"#DejaVuSans-71\"/>\n      <use x=\"461.027344\" xlink:href=\"#DejaVuSans-114\"/>\n      <use x=\"502.140625\" xlink:href=\"#DejaVuSans-105\"/>\n      <use x=\"529.923828\" xlink:href=\"#DejaVuSans-100\"/>\n     </g>\n    </g>\n    <g id=\"line2d_18\">\n     <path d=\"M 354.219063 57.169687 \nL 378.219063 57.169687 \n\" style=\"fill:none;stroke:#ff7f0e;stroke-dasharray:5.55,2.4;stroke-dashoffset:0;stroke-width:1.5;\"/>\n    </g>\n    <g id=\"line2d_19\">\n     <g>\n      <use style=\"fill:#ff7f0e;stroke:#ff7f0e;stroke-linejoin:miter;\" x=\"366.219063\" xlink:href=\"#mb19d16d27f\" y=\"57.169687\"/>\n     </g>\n    </g>\n    <g id=\"text_16\">\n     <!-- MonteCarlo -->\n     <g transform=\"translate(387.819063 61.369687)scale(0.12 -0.12)\">\n      <use xlink:href=\"#DejaVuSans-77\"/>\n      <use x=\"86.279297\" xlink:href=\"#DejaVuSans-111\"/>\n      <use x=\"147.460938\" xlink:href=\"#DejaVuSans-110\"/>\n      <use x=\"210.839844\" xlink:href=\"#DejaVuSans-116\"/>\n      <use x=\"250.048828\" xlink:href=\"#DejaVuSans-101\"/>\n      <use x=\"311.572266\" xlink:href=\"#DejaVuSans-67\"/>\n      <use x=\"381.396484\" xlink:href=\"#DejaVuSans-97\"/>\n      <use x=\"442.675781\" xlink:href=\"#DejaVuSans-114\"/>\n      <use x=\"483.789062\" xlink:href=\"#DejaVuSans-108\"/>\n      <use x=\"511.572266\" xlink:href=\"#DejaVuSans-111\"/>\n     </g>\n    </g>\n    <g id=\"line2d_20\">\n     <path d=\"M 354.219063 74.783437 \nL 378.219063 74.783437 \n\" style=\"fill:none;stroke:#2ca02c;stroke-dasharray:5.55,2.4;stroke-dashoffset:0;stroke-width:1.5;\"/>\n    </g>\n    <g id=\"line2d_21\">\n     <g>\n      <use style=\"fill:#2ca02c;stroke:#2ca02c;stroke-linejoin:miter;\" x=\"366.219063\" xlink:href=\"#m913cad68b0\" y=\"74.783437\"/>\n     </g>\n    </g>\n    <g id=\"text_17\">\n     <!-- Sobol -->\n     <g transform=\"translate(387.819063 78.983437)scale(0.12 -0.12)\">\n      <use xlink:href=\"#DejaVuSans-83\"/>\n      <use x=\"63.476562\" xlink:href=\"#DejaVuSans-111\"/>\n      <use x=\"124.658203\" xlink:href=\"#DejaVuSans-98\"/>\n      <use x=\"188.134766\" xlink:href=\"#DejaVuSans-111\"/>\n      <use x=\"249.316406\" xlink:href=\"#DejaVuSans-108\"/>\n     </g>\n    </g>\n    <g id=\"line2d_22\">\n     <path d=\"M 354.219063 93.383437 \nL 378.219063 93.383437 \n\" style=\"fill:none;stroke:#000000;stroke-linecap:square;stroke-width:1.5;\"/>\n    </g>\n    <g id=\"line2d_23\"/>\n    <g id=\"text_18\">\n     <!-- Reference mean - MC ($10^8$) -->\n     <g transform=\"translate(387.819063 97.583437)scale(0.12 -0.12)\">\n      <defs>\n       <path d=\"M 48.78125 52.59375 \nL 48.78125 44.1875 \nQ 44.96875 46.296875 41.140625 47.34375 \nQ 37.3125 48.390625 33.40625 48.390625 \nQ 24.65625 48.390625 19.8125 42.84375 \nQ 14.984375 37.3125 14.984375 27.296875 \nQ 14.984375 17.28125 19.8125 11.734375 \nQ 24.65625 6.203125 33.40625 6.203125 \nQ 37.3125 6.203125 41.140625 7.25 \nQ 44.96875 8.296875 48.78125 10.40625 \nL 48.78125 2.09375 \nQ 45.015625 0.34375 40.984375 -0.53125 \nQ 36.96875 -1.421875 32.421875 -1.421875 \nQ 20.0625 -1.421875 12.78125 6.34375 \nQ 5.515625 14.109375 5.515625 27.296875 \nQ 5.515625 40.671875 12.859375 48.328125 \nQ 20.21875 56 33.015625 56 \nQ 37.15625 56 41.109375 55.140625 \nQ 45.0625 54.296875 48.78125 52.59375 \nz\n\" id=\"DejaVuSans-99\"/>\n       <path d=\"M 4.890625 31.390625 \nL 31.203125 31.390625 \nL 31.203125 23.390625 \nL 4.890625 23.390625 \nz\n\" id=\"DejaVuSans-45\"/>\n      </defs>\n      <use transform=\"translate(0 0.765625)\" xlink:href=\"#DejaVuSans-82\"/>\n      <use transform=\"translate(69.482422 0.765625)\" xlink:href=\"#DejaVuSans-101\"/>\n      <use transform=\"translate(131.005859 0.765625)\" xlink:href=\"#DejaVuSans-102\"/>\n      <use transform=\"translate(166.210938 0.765625)\" xlink:href=\"#DejaVuSans-101\"/>\n      <use transform=\"translate(227.734375 0.765625)\" xlink:href=\"#DejaVuSans-114\"/>\n      <use transform=\"translate(268.847656 0.765625)\" xlink:href=\"#DejaVuSans-101\"/>\n      <use transform=\"translate(330.371094 0.765625)\" xlink:href=\"#DejaVuSans-110\"/>\n      <use transform=\"translate(393.75 0.765625)\" xlink:href=\"#DejaVuSans-99\"/>\n      <use transform=\"translate(448.730469 0.765625)\" xlink:href=\"#DejaVuSans-101\"/>\n      <use transform=\"translate(510.253906 0.765625)\" xlink:href=\"#DejaVuSans-32\"/>\n      <use transform=\"translate(542.041016 0.765625)\" xlink:href=\"#DejaVuSans-109\"/>\n      <use transform=\"translate(639.453125 0.765625)\" xlink:href=\"#DejaVuSans-101\"/>\n      <use transform=\"translate(700.976562 0.765625)\" xlink:href=\"#DejaVuSans-97\"/>\n      <use transform=\"translate(762.255859 0.765625)\" xlink:href=\"#DejaVuSans-110\"/>\n      <use transform=\"translate(825.634766 0.765625)\" xlink:href=\"#DejaVuSans-32\"/>\n      <use transform=\"translate(857.421875 0.765625)\" xlink:href=\"#DejaVuSans-45\"/>\n      <use transform=\"translate(893.505859 0.765625)\" xlink:href=\"#DejaVuSans-32\"/>\n      <use transform=\"translate(925.292969 0.765625)\" xlink:href=\"#DejaVuSans-77\"/>\n      <use transform=\"translate(1011.572266 0.765625)\" xlink:href=\"#DejaVuSans-67\"/>\n      <use transform=\"translate(1081.396484 0.765625)\" xlink:href=\"#DejaVuSans-32\"/>\n      <use transform=\"translate(1113.183594 0.765625)\" xlink:href=\"#DejaVuSans-40\"/>\n      <use transform=\"translate(1152.197266 0.765625)\" xlink:href=\"#DejaVuSans-49\"/>\n      <use transform=\"translate(1215.820312 0.765625)\" xlink:href=\"#DejaVuSans-48\"/>\n      <use transform=\"translate(1280.400391 39.046875)scale(0.7)\" xlink:href=\"#DejaVuSans-56\"/>\n      <use transform=\"translate(1327.670898 0.765625)\" xlink:href=\"#DejaVuSans-41\"/>\n     </g>\n    </g>\n   </g>\n  </g>\n </g>\n <defs>\n  <clipPath id=\"p048e9113c4\">\n   <rect height=\"326.16\" width=\"502.2\" x=\"60.459063\" y=\"23.837812\"/>\n  </clipPath>\n </defs>\n</svg>\n",
      "text/plain": [
       "<Figure size 648x432 with 1 Axes>"
      ]
     },
     "metadata": {
      "needs_background": "light"
     },
     "output_type": "display_data"
    }
   ],
   "source": [
    "fig = bench.draw_mean(branin_problem, df_med_mean, df_up_mean, df_low_mean)\n",
    "fig;"
   ]
  },
  {
   "cell_type": "code",
   "execution_count": null,
   "metadata": {},
   "outputs": [],
   "source": []
  }
 ],
 "metadata": {
  "kernelspec": {
   "display_name": "Python 3.9.1 ('uqwind')",
   "language": "python",
   "name": "python3"
  },
  "language_info": {
   "codemirror_mode": {
    "name": "ipython",
    "version": 3
   },
   "file_extension": ".py",
   "mimetype": "text/x-python",
   "name": "python",
   "nbconvert_exporter": "python",
   "pygments_lexer": "ipython3",
   "version": "3.9.13"
  },
  "vscode": {
   "interpreter": {
    "hash": "a10dbe423208eaf09a1e286ee405817ead0aca247a6dbbbe72b2460e7338c561"
   }
  }
 },
 "nbformat": 4,
 "nbformat_minor": 2
}
