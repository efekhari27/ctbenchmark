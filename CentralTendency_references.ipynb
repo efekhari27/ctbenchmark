{
 "cells": [
  {
   "cell_type": "markdown",
   "metadata": {},
   "source": [
    "# Central tendency analysis examples\n",
    "\n",
    "\n",
    "The objective of this example is to present central tendency problems implemented in otbenchmark."
   ]
  },
  {
   "cell_type": "code",
   "execution_count": 1,
   "metadata": {},
   "outputs": [],
   "source": [
    "import openturns as ot\n",
    "import numpy as np\n",
    "import ctbenchmark as ctb"
   ]
  },
  {
   "cell_type": "code",
   "execution_count": 2,
   "metadata": {},
   "outputs": [],
   "source": [
    "def MCexp(problem, my_sampleSize):\n",
    "    function = problem.getFunction()\n",
    "    distribution = problem.getDistribution()\n",
    "    inputSample = distribution.getSample(my_sampleSize)\n",
    "    outputSample = function(inputSample)\n",
    "    return inputSample, outputSample\n",
    "mc_size = int(1e7)"
   ]
  },
  {
   "cell_type": "code",
   "execution_count": 3,
   "metadata": {},
   "outputs": [
    {
     "name": "stdout",
     "output_type": "stream",
     "text": [
      "NAME = CT_irregular_problem            \n",
      "FUNCTION = [x1,x2]->[exp(x1) / 5 - x2 / 5 + (x2 ^ 6) / 3 + 4 * x2 ^ 4 - 4 * x2 ^ 2 + (7 * x1 ^ 2) / 10 + x1 ^ 4 + 3 / (4 * x1 ^ 2 + 4 * x2 ^ 2 + 1)]            \n",
      "DISTRIBUTION = ComposedDistribution(TruncatedDistribution(Mixture((w = 0.285714, d = Normal(mu = 0.3, sigma = 0.12)), (w = 0.714286, d = Normal(mu = 0.7, sigma = 0.1))), bounds = [0, 1]), TruncatedDistribution(Normal(mu = 0.6, sigma = 0.15), bounds = [0, 1]), ClaytonCopula(theta = 2))            \n",
      "MEAN = 0.0            \n",
      "STANDARD DEVIATION = 0.0\n",
      "\n"
     ]
    }
   ],
   "source": [
    "irregular_problem = ctb.CentralTendencyIrregularProblem()\n",
    "function = irregular_problem.getFunction()\n",
    "distribution = irregular_problem.getDistribution()\n",
    "print(irregular_problem)"
   ]
  },
  {
   "cell_type": "code",
   "execution_count": 4,
   "metadata": {},
   "outputs": [
    {
     "name": "stdout",
     "output_type": "stream",
     "text": [
      "Reference mean: 0.802416025496437\n",
      "Reference std: 0.39433913279693183\n"
     ]
    }
   ],
   "source": [
    "# MC computation of the reference values\n",
    "input_ref, output_ref = MCexp(irregular_problem, mc_size)\n",
    "mean = output_ref.computeMean()[0]\n",
    "std = output_ref.computeStandardDeviation()[0]\n",
    "print(\"Reference mean: {}\".format(mean))\n",
    "print(\"Reference std: {}\".format(std))"
   ]
  },
  {
   "cell_type": "markdown",
   "metadata": {},
   "source": [
    "## Gaussian Peak problem\n",
    "### 2D -- Normal input"
   ]
  },
  {
   "cell_type": "code",
   "execution_count": 3,
   "metadata": {},
   "outputs": [
    {
     "name": "stdout",
     "output_type": "stream",
     "text": [
      "NAME = Gaussian Peak 2D (normal input)            \n",
      "FUNCTION = [x1,x2]->[10 * exp(- 25 * (x1 - 0.35)^2 - 25 * (x2 - 0.35)^2)]            \n",
      "DISTRIBUTION = ComposedDistribution(TruncatedDistribution(Normal(mu = 0.5, sigma = 0.15), bounds = [0, 1]), TruncatedDistribution(Normal(mu = 0.5, sigma = 0.15), bounds = [0, 1]), IndependentCopula(dimension = 2))            \n",
      "MEAN = 3.6173631229677583            \n",
      "STANDARD DEVIATION = 2.9523253666019555\n",
      "\n"
     ]
    }
   ],
   "source": [
    "gaussian_peak_problem2N = ctb.CentralTendencyGaussianPeakProblem2N()\n",
    "function = gaussian_peak_problem2N.getFunction()\n",
    "distribution = gaussian_peak_problem2N.getDistribution()\n",
    "print(gaussian_peak_problem2N)"
   ]
  },
  {
   "cell_type": "code",
   "execution_count": 4,
   "metadata": {},
   "outputs": [
    {
     "name": "stdout",
     "output_type": "stream",
     "text": [
      "Reference mean: 2.7761168106934293\n",
      "Reference std: 2.778026982859545\n"
     ]
    }
   ],
   "source": [
    "# MC computation of the reference values\n",
    "input_ref, output_ref = MCexp(gaussian_peak_problem2N, mc_size)\n",
    "mean = output_ref.computeMean()[0]\n",
    "std = output_ref.computeStandardDeviation()[0]\n",
    "print(\"Reference mean: {}\".format(mean))\n",
    "print(\"Reference std: {}\".format(std))"
   ]
  },
  {
   "cell_type": "markdown",
   "metadata": {},
   "source": [
    "### 2D -- Mixture input"
   ]
  },
  {
   "cell_type": "code",
   "execution_count": 5,
   "metadata": {},
   "outputs": [
    {
     "name": "stdout",
     "output_type": "stream",
     "text": [
      "NAME = Gaussian Peak 2D (mixture input)            \n",
      "FUNCTION = [x1,x2]->[10 * exp(- 25 * (x1 - 0.35)^2 - 25 * (x2 - 0.35)^2)]            \n",
      "DISTRIBUTION = ComposedDistribution(TruncatedDistribution(Mixture((w = 0.285714, d = Normal(mu = 0.3, sigma = 0.12)), (w = 0.714286, d = Normal(mu = 0.7, sigma = 0.1))), bounds = [0, 1]), TruncatedDistribution(Normal(mu = 0.6, sigma = 0.15), bounds = [0, 1]), ClaytonCopula(theta = 2))            \n",
      "MEAN = 1.4547648231513            \n",
      "STANDARD DEVIATION = 1.8624232897119934\n",
      "\n"
     ]
    }
   ],
   "source": [
    "gaussian_peak_problem2M = ctb.CentralTendencyGaussianPeakProblem2M()\n",
    "function = gaussian_peak_problem2M.getFunction()\n",
    "distribution = gaussian_peak_problem2M.getDistribution()\n",
    "print(gaussian_peak_problem2M)"
   ]
  },
  {
   "cell_type": "code",
   "execution_count": 6,
   "metadata": {},
   "outputs": [
    {
     "name": "stdout",
     "output_type": "stream",
     "text": [
      "Reference mean: 1.5936074023999671\n",
      "Reference std: 2.508630489365926\n"
     ]
    }
   ],
   "source": [
    "# MC computation of the reference values\n",
    "input_ref, output_ref = MCexp(gaussian_peak_problem2M, mc_size)\n",
    "mean = output_ref.computeMean()[0]\n",
    "std = output_ref.computeStandardDeviation()[0]\n",
    "print(\"Reference mean: {}\".format(mean))\n",
    "print(\"Reference std: {}\".format(std))"
   ]
  },
  {
   "cell_type": "markdown",
   "metadata": {},
   "source": [
    "### 5D -- Normal input"
   ]
  },
  {
   "cell_type": "code",
   "execution_count": 7,
   "metadata": {},
   "outputs": [
    {
     "name": "stdout",
     "output_type": "stream",
     "text": [
      "NAME = Gaussian Peak 5D (normal input)            \n",
      "FUNCTION = [x1,x2,x3,x4,x5]->[exp(- 25 * (x1 - 0.35)^2 + (x2 - 0.35)^2 + (x3 - 0.35)^2 + (x4 - 0.35)^2 + (x5 - 0.35)^2)]            \n",
      "DISTRIBUTION = ComposedDistribution(TruncatedDistribution(Normal(mu = 0.5, sigma = 0.15), bounds = [0, 1]), TruncatedDistribution(Normal(mu = 0.5, sigma = 0.15), bounds = [0, 1]), TruncatedDistribution(Normal(mu = 0.5, sigma = 0.15), bounds = [0, 1]), TruncatedDistribution(Normal(mu = 0.5, sigma = 0.15), bounds = [0, 1]), TruncatedDistribution(Normal(mu = 0.5, sigma = 0.15), bounds = [0, 1]), IndependentCopula(dimension = 5))            \n",
      "MEAN = 0.7519668008400389            \n",
      "STANDARD DEVIATION = 0.32134868343726203\n",
      "\n"
     ]
    }
   ],
   "source": [
    "gaussian_peak_problem5N = ctb.CentralTendencyGaussianPeakProblem5N()\n",
    "function = gaussian_peak_problem5N.getFunction()\n",
    "distribution = gaussian_peak_problem5N.getDistribution()\n",
    "print(gaussian_peak_problem5N)"
   ]
  },
  {
   "cell_type": "code",
   "execution_count": 8,
   "metadata": {},
   "outputs": [
    {
     "name": "stdout",
     "output_type": "stream",
     "text": [
      "Reference mean: 0.6340250731517876\n",
      "Reference std: 0.41751146118991256\n"
     ]
    }
   ],
   "source": [
    "# MC computation of the reference values\n",
    "input_ref, output_ref = MCexp(gaussian_peak_problem5N, mc_size)\n",
    "mean = output_ref.computeMean()[0]\n",
    "std = output_ref.computeStandardDeviation()[0]\n",
    "print(\"Reference mean: {}\".format(mean))\n",
    "print(\"Reference std: {}\".format(std))"
   ]
  },
  {
   "cell_type": "markdown",
   "metadata": {},
   "source": [
    "## GSobol function"
   ]
  },
  {
   "cell_type": "code",
   "execution_count": 3,
   "metadata": {},
   "outputs": [
    {
     "name": "stdout",
     "output_type": "stream",
     "text": [
      "NAME = GSobol 5D (normal input)            \n",
      "FUNCTION = class=PythonEvaluation name=OpenTURNSPythonFunction            \n",
      "DISTRIBUTION = ComposedDistribution(TruncatedDistribution(Normal(mu = 0.5, sigma = 0.15), bounds = [0, 1]), TruncatedDistribution(Normal(mu = 0.5, sigma = 0.15), bounds = [0, 1]), TruncatedDistribution(Normal(mu = 0.5, sigma = 0.15), bounds = [0, 1]), TruncatedDistribution(Normal(mu = 0.5, sigma = 0.15), bounds = [0, 1]), TruncatedDistribution(Normal(mu = 0.5, sigma = 0.15), bounds = [0, 1]), IndependentCopula(dimension = 5))            \n",
      "MEAN = 0.4345424555235939            \n",
      "STANDARD DEVIATION = 0.1414514728776655\n",
      "\n"
     ]
    }
   ],
   "source": [
    "gsobol_problem = ctb.CentralTendencyGSobolProblem()\n",
    "function = gsobol_problem.getFunction()\n",
    "distribution = gsobol_problem.getDistribution()\n",
    "print(gsobol_problem)"
   ]
  },
  {
   "cell_type": "code",
   "execution_count": 4,
   "metadata": {},
   "outputs": [
    {
     "name": "stdout",
     "output_type": "stream",
     "text": [
      "Reference mean: 0.4334546783396362\n",
      "Reference std: 0.13995929792908476\n"
     ]
    }
   ],
   "source": [
    "# MC computation of the reference values\n",
    "input_ref, output_ref = MCexp(gsobol_problem, int(1e8))\n",
    "mean = output_ref.computeMean()[0]\n",
    "std = output_ref.computeStandardDeviation()[0]\n",
    "print(\"Reference mean: {}\".format(mean))\n",
    "print(\"Reference std: {}\".format(std))"
   ]
  },
  {
   "cell_type": "code",
   "execution_count": null,
   "metadata": {},
   "outputs": [],
   "source": []
  }
 ],
 "metadata": {
  "interpreter": {
   "hash": "1e41ba9edc77fa7bb7f15c4dcf3bc5e1fde8696f63c04944116d63de3aa2a8e6"
  },
  "kernelspec": {
   "display_name": "Python 3.6.13 64-bit ('otb_dev': conda)",
   "language": "python",
   "name": "python3"
  },
  "language_info": {
   "codemirror_mode": {
    "name": "ipython",
    "version": 3
   },
   "file_extension": ".py",
   "mimetype": "text/x-python",
   "name": "python",
   "nbconvert_exporter": "python",
   "pygments_lexer": "ipython3",
   "version": "3.10.2"
  }
 },
 "nbformat": 4,
 "nbformat_minor": 2
}
